{
 "cells": [
  {
   "cell_type": "markdown",
   "metadata": {},
   "source": [
    "# Este notebook trata con el problema de clasificación de vinos en 6 calidades diferentes según la apreciación subjetiva de expertos. Se usan los modelos Support Vector Machine multiclase y Random Forest, obteniendo este último un mejor score (70.3%). Queda pendiente el mejoramiento del modelo y la experimentación con otros modelos."
   ]
  },
  {
   "cell_type": "code",
   "execution_count": 128,
   "metadata": {},
   "outputs": [],
   "source": [
    "import pandas as pd\n",
    "import seaborn as sns\n",
    "import matplotlib.pyplot as plt\n",
    "import numpy as np\n",
    "from sklearn.preprocessing import StandardScaler\n",
    "from sklearn.model_selection import train_test_split\n",
    "from sklearn import linear_model\n",
    "from sklearn import model_selection\n",
    "from sklearn.metrics import confusion_matrix, classification_report, accuracy_score, mean_absolute_error\n",
    "from sklearn import svm\n",
    "from sklearn.ensemble import RandomForestClassifier\n",
    "from sklearn.feature_selection import SelectFromModel\n",
    "import matplotlib.pyplot as plt\n",
    "from pprint import pprint  # para imprimir parámetros del modelo\n",
    "import warnings\n",
    "warnings.filterwarnings('ignore')"
   ]
  },
  {
   "cell_type": "code",
   "execution_count": 129,
   "metadata": {},
   "outputs": [],
   "source": [
    "\n",
    "df=pd.read_csv('winequality-white.csv',sep=';')"
   ]
  },
  {
   "cell_type": "code",
   "execution_count": 130,
   "metadata": {},
   "outputs": [
    {
     "data": {
      "text/html": [
       "<div>\n",
       "<style scoped>\n",
       "    .dataframe tbody tr th:only-of-type {\n",
       "        vertical-align: middle;\n",
       "    }\n",
       "\n",
       "    .dataframe tbody tr th {\n",
       "        vertical-align: top;\n",
       "    }\n",
       "\n",
       "    .dataframe thead th {\n",
       "        text-align: right;\n",
       "    }\n",
       "</style>\n",
       "<table border=\"1\" class=\"dataframe\">\n",
       "  <thead>\n",
       "    <tr style=\"text-align: right;\">\n",
       "      <th></th>\n",
       "      <th>fixed acidity</th>\n",
       "      <th>volatile acidity</th>\n",
       "      <th>citric acid</th>\n",
       "      <th>residual sugar</th>\n",
       "      <th>chlorides</th>\n",
       "      <th>free sulfur dioxide</th>\n",
       "      <th>total sulfur dioxide</th>\n",
       "      <th>density</th>\n",
       "      <th>pH</th>\n",
       "      <th>sulphates</th>\n",
       "      <th>alcohol</th>\n",
       "      <th>quality</th>\n",
       "    </tr>\n",
       "  </thead>\n",
       "  <tbody>\n",
       "    <tr>\n",
       "      <td>0</td>\n",
       "      <td>7.0</td>\n",
       "      <td>0.27</td>\n",
       "      <td>0.36</td>\n",
       "      <td>20.7</td>\n",
       "      <td>0.045</td>\n",
       "      <td>45.0</td>\n",
       "      <td>170.0</td>\n",
       "      <td>1.0010</td>\n",
       "      <td>3.00</td>\n",
       "      <td>0.45</td>\n",
       "      <td>8.8</td>\n",
       "      <td>6</td>\n",
       "    </tr>\n",
       "    <tr>\n",
       "      <td>1</td>\n",
       "      <td>6.3</td>\n",
       "      <td>0.30</td>\n",
       "      <td>0.34</td>\n",
       "      <td>1.6</td>\n",
       "      <td>0.049</td>\n",
       "      <td>14.0</td>\n",
       "      <td>132.0</td>\n",
       "      <td>0.9940</td>\n",
       "      <td>3.30</td>\n",
       "      <td>0.49</td>\n",
       "      <td>9.5</td>\n",
       "      <td>6</td>\n",
       "    </tr>\n",
       "    <tr>\n",
       "      <td>2</td>\n",
       "      <td>8.1</td>\n",
       "      <td>0.28</td>\n",
       "      <td>0.40</td>\n",
       "      <td>6.9</td>\n",
       "      <td>0.050</td>\n",
       "      <td>30.0</td>\n",
       "      <td>97.0</td>\n",
       "      <td>0.9951</td>\n",
       "      <td>3.26</td>\n",
       "      <td>0.44</td>\n",
       "      <td>10.1</td>\n",
       "      <td>6</td>\n",
       "    </tr>\n",
       "    <tr>\n",
       "      <td>3</td>\n",
       "      <td>7.2</td>\n",
       "      <td>0.23</td>\n",
       "      <td>0.32</td>\n",
       "      <td>8.5</td>\n",
       "      <td>0.058</td>\n",
       "      <td>47.0</td>\n",
       "      <td>186.0</td>\n",
       "      <td>0.9956</td>\n",
       "      <td>3.19</td>\n",
       "      <td>0.40</td>\n",
       "      <td>9.9</td>\n",
       "      <td>6</td>\n",
       "    </tr>\n",
       "    <tr>\n",
       "      <td>4</td>\n",
       "      <td>7.2</td>\n",
       "      <td>0.23</td>\n",
       "      <td>0.32</td>\n",
       "      <td>8.5</td>\n",
       "      <td>0.058</td>\n",
       "      <td>47.0</td>\n",
       "      <td>186.0</td>\n",
       "      <td>0.9956</td>\n",
       "      <td>3.19</td>\n",
       "      <td>0.40</td>\n",
       "      <td>9.9</td>\n",
       "      <td>6</td>\n",
       "    </tr>\n",
       "  </tbody>\n",
       "</table>\n",
       "</div>"
      ],
      "text/plain": [
       "   fixed acidity  volatile acidity  citric acid  residual sugar  chlorides  \\\n",
       "0            7.0              0.27         0.36            20.7      0.045   \n",
       "1            6.3              0.30         0.34             1.6      0.049   \n",
       "2            8.1              0.28         0.40             6.9      0.050   \n",
       "3            7.2              0.23         0.32             8.5      0.058   \n",
       "4            7.2              0.23         0.32             8.5      0.058   \n",
       "\n",
       "   free sulfur dioxide  total sulfur dioxide  density    pH  sulphates  \\\n",
       "0                 45.0                 170.0   1.0010  3.00       0.45   \n",
       "1                 14.0                 132.0   0.9940  3.30       0.49   \n",
       "2                 30.0                  97.0   0.9951  3.26       0.44   \n",
       "3                 47.0                 186.0   0.9956  3.19       0.40   \n",
       "4                 47.0                 186.0   0.9956  3.19       0.40   \n",
       "\n",
       "   alcohol  quality  \n",
       "0      8.8        6  \n",
       "1      9.5        6  \n",
       "2     10.1        6  \n",
       "3      9.9        6  \n",
       "4      9.9        6  "
      ]
     },
     "execution_count": 130,
     "metadata": {},
     "output_type": "execute_result"
    }
   ],
   "source": [
    "df.head(5)"
   ]
  },
  {
   "cell_type": "markdown",
   "metadata": {},
   "source": [
    "## Análisis exploratorio"
   ]
  },
  {
   "cell_type": "code",
   "execution_count": 131,
   "metadata": {},
   "outputs": [
    {
     "data": {
      "text/plain": [
       "(4898, 12)"
      ]
     },
     "execution_count": 131,
     "metadata": {},
     "output_type": "execute_result"
    }
   ],
   "source": [
    "df.shape"
   ]
  },
  {
   "cell_type": "code",
   "execution_count": 132,
   "metadata": {},
   "outputs": [
    {
     "data": {
      "text/plain": [
       "<matplotlib.axes._subplots.AxesSubplot at 0x226f0763988>"
      ]
     },
     "execution_count": 132,
     "metadata": {},
     "output_type": "execute_result"
    },
    {
     "data": {
      "image/png": "[encoded data removed]",
      "text/plain": [
       "<Figure size 432x288 with 1 Axes>"
      ]
     },
     "metadata": {
      "needs_background": "light"
     },
     "output_type": "display_data"
    }
   ],
   "source": [
    " df['quality'].value_counts().sort_index().plot(kind='bar',title='cantidad por calificación')\n",
    "                                            "
   ]
  },
  {
   "cell_type": "code",
   "execution_count": 133,
   "metadata": {},
   "outputs": [
    {
     "data": {
      "text/plain": [
       "3      20\n",
       "4     163\n",
       "5    1457\n",
       "6    2198\n",
       "7     880\n",
       "8     175\n",
       "9       5\n",
       "Name: quality, dtype: int64"
      ]
     },
     "execution_count": 133,
     "metadata": {},
     "output_type": "execute_result"
    }
   ],
   "source": [
    "df['quality'].value_counts().sort_index()"
   ]
  },
  {
   "cell_type": "markdown",
   "metadata": {},
   "source": [
    "No hay vinos con calificación  1,2 ó 10. Los vinos de calificación normal 6 son los más numerosos."
   ]
  },
  {
   "cell_type": "code",
   "execution_count": 134,
   "metadata": {},
   "outputs": [
    {
     "data": {
      "image/png": "[encoded data removed]",
      "text/plain": [
       "<Figure size 432x360 with 1 Axes>"
      ]
     },
     "metadata": {
      "needs_background": "light"
     },
     "output_type": "display_data"
    }
   ],
   "source": [
    "fig = plt.figure(figsize=(6, 5))\n",
    "sns.barplot(x='quality', y='sulphates', data=df)\n",
    "plt.show()"
   ]
  },
  {
   "cell_type": "code",
   "execution_count": 135,
   "metadata": {},
   "outputs": [
    {
     "data": {
      "image/png": "[encoded data removed]",
      "text/plain": [
       "<Figure size 432x360 with 1 Axes>"
      ]
     },
     "metadata": {
      "needs_background": "light"
     },
     "output_type": "display_data"
    }
   ],
   "source": [
    "fig = plt.figure(figsize=(6, 5))\n",
    "sns.barplot(x='quality', y='pH', data=df)\n",
    "plt.show()"
   ]
  },
  {
   "cell_type": "markdown",
   "metadata": {},
   "source": [
    "La variable pH tiene una relación directa con la calidad a partir del nivel 4(según medianas). A mayor pH,mayor calidad. El pH \"adecuado\" está entre 3.0 y 3.5."
   ]
  },
  {
   "cell_type": "code",
   "execution_count": 136,
   "metadata": {},
   "outputs": [
    {
     "data": {
      "image/png": "[encoded data removed]",
      "text/plain": [
       "<Figure size 432x360 with 1 Axes>"
      ]
     },
     "metadata": {
      "needs_background": "light"
     },
     "output_type": "display_data"
    }
   ],
   "source": [
    "fig = plt.figure(figsize=(6, 5))\n",
    "sns.barplot(x='quality', y='alcohol', data=df)\n",
    "plt.show()"
   ]
  },
  {
   "cell_type": "markdown",
   "metadata": {},
   "source": [
    "A partir del nivel 5, sí hay una relación directa con el nivel de alcohol. Es decir, los vinos con mayor calificación tienen\n",
    "más alcohol."
   ]
  },
  {
   "cell_type": "code",
   "execution_count": 137,
   "metadata": {},
   "outputs": [
    {
     "data": {
      "image/png": "[encoded data removed]",
      "text/plain": [
       "<Figure size 432x360 with 1 Axes>"
      ]
     },
     "metadata": {
      "needs_background": "light"
     },
     "output_type": "display_data"
    }
   ],
   "source": [
    "fig = plt.figure(figsize=(6, 5))\n",
    "sns.barplot(x='quality', y='citric acid', data=df)\n",
    "plt.show()"
   ]
  },
  {
   "cell_type": "code",
   "execution_count": 138,
   "metadata": {},
   "outputs": [
    {
     "data": {
      "image/png": "[encoded data removed]",
      "text/plain": [
       "<Figure size 432x360 with 1 Axes>"
      ]
     },
     "metadata": {
      "needs_background": "light"
     },
     "output_type": "display_data"
    }
   ],
   "source": [
    "fig = plt.figure(figsize=(6, 5))\n",
    "sns.barplot(x='quality', y='density', data=df)\n",
    "plt.show()"
   ]
  },
  {
   "cell_type": "markdown",
   "metadata": {},
   "source": [
    "Los valores de la densidad están todos cerca de 1. La relación entre las variables la podemos apreciar mejor en\n",
    "un gráfica de caja:"
   ]
  },
  {
   "cell_type": "code",
   "execution_count": 139,
   "metadata": {},
   "outputs": [
    {
     "data": {
      "text/plain": [
       "<matplotlib.axes._subplots.AxesSubplot at 0x226ef376108>"
      ]
     },
     "execution_count": 139,
     "metadata": {},
     "output_type": "execute_result"
    },
    {
     "data": {
      "image/png": "[encoded data removed]",
      "text/plain": [
       "<Figure size 432x288 with 1 Axes>"
      ]
     },
     "metadata": {
      "needs_background": "light"
     },
     "output_type": "display_data"
    }
   ],
   "source": [
    "sns.boxplot(x='quality',y='density',data=df)"
   ]
  },
  {
   "cell_type": "markdown",
   "metadata": {},
   "source": [
    "Así vemos que excepto la calificación 5, mayor calificación del vino está relacionada con una menor \n",
    "densidad de éste."
   ]
  },
  {
   "cell_type": "code",
   "execution_count": 140,
   "metadata": {},
   "outputs": [
    {
     "data": {
      "text/plain": [
       "<matplotlib.axes._subplots.AxesSubplot at 0x226ef49e0c8>"
      ]
     },
     "execution_count": 140,
     "metadata": {},
     "output_type": "execute_result"
    },
    {
     "data": {
      "image/png": "[encoded data removed]",
      "text/plain": [
       "<Figure size 432x288 with 1 Axes>"
      ]
     },
     "metadata": {
      "needs_background": "light"
     },
     "output_type": "display_data"
    }
   ],
   "source": [
    "sns.boxplot(x='quality',y='residual sugar',data=df)"
   ]
  },
  {
   "cell_type": "code",
   "execution_count": 141,
   "metadata": {},
   "outputs": [
    {
     "data": {
      "text/plain": [
       "<matplotlib.axes._subplots.AxesSubplot at 0x226ef5e4848>"
      ]
     },
     "execution_count": 141,
     "metadata": {},
     "output_type": "execute_result"
    },
    {
     "data": {
      "image/png": "[encoded data removed]",
      "text/plain": [
       "<Figure size 432x288 with 1 Axes>"
      ]
     },
     "metadata": {
      "needs_background": "light"
     },
     "output_type": "display_data"
    }
   ],
   "source": [
    "sns.boxplot(x='quality',y='volatile acidity',data=df)"
   ]
  },
  {
   "cell_type": "markdown",
   "metadata": {},
   "source": [
    "Veamos correlación entre las variables, mediante un heat map:"
   ]
  },
  {
   "cell_type": "code",
   "execution_count": 142,
   "metadata": {},
   "outputs": [
    {
     "data": {
      "image/png": "[encoded data removed]",
      "text/plain": [
       "<Figure size 720x720 with 2 Axes>"
      ]
     },
     "metadata": {
      "needs_background": "light"
     },
     "output_type": "display_data"
    }
   ],
   "source": [
    "correlations=df.corr()\n",
    "fig, ax = plt.subplots(figsize=(10, 10))\n",
    "sns.heatmap(correlations, annot=True, fmt=\".2f\")\n",
    "plt.show()"
   ]
  },
  {
   "cell_type": "markdown",
   "metadata": {},
   "source": [
    "Salta a la vista una correlación muy alta y positiva entre la densidad y la azúcar residual:"
   ]
  },
  {
   "cell_type": "code",
   "execution_count": 143,
   "metadata": {},
   "outputs": [
    {
     "data": {
      "text/plain": [
       "<matplotlib.axes._subplots.AxesSubplot at 0x226f08099c8>"
      ]
     },
     "execution_count": 143,
     "metadata": {},
     "output_type": "execute_result"
    },
    {
     "data": {
      "image/png": "[encoded data removed]",
      "text/plain": [
       "<Figure size 432x288 with 1 Axes>"
      ]
     },
     "metadata": {
      "needs_background": "light"
     },
     "output_type": "display_data"
    }
   ],
   "source": [
    "sns.regplot(x='residual sugar',y='density',data=df)"
   ]
  },
  {
   "cell_type": "markdown",
   "metadata": {},
   "source": [
    "Notemos que la medida con densidad casi 1.04 se encuentra muy alejada de las demás medidas, como también se\n",
    "puede apreciar en el gráfico de caja entre densidad y calificación anterior. Lo consideraremos como un **outlier\n",
    "y procederemos a eliminarlo**:"
   ]
  },
  {
   "cell_type": "code",
   "execution_count": 144,
   "metadata": {},
   "outputs": [
    {
     "data": {
      "text/html": [
       "<div>\n",
       "<style scoped>\n",
       "    .dataframe tbody tr th:only-of-type {\n",
       "        vertical-align: middle;\n",
       "    }\n",
       "\n",
       "    .dataframe tbody tr th {\n",
       "        vertical-align: top;\n",
       "    }\n",
       "\n",
       "    .dataframe thead th {\n",
       "        text-align: right;\n",
       "    }\n",
       "</style>\n",
       "<table border=\"1\" class=\"dataframe\">\n",
       "  <thead>\n",
       "    <tr style=\"text-align: right;\">\n",
       "      <th></th>\n",
       "      <th>fixed acidity</th>\n",
       "      <th>volatile acidity</th>\n",
       "      <th>citric acid</th>\n",
       "      <th>residual sugar</th>\n",
       "      <th>chlorides</th>\n",
       "      <th>free sulfur dioxide</th>\n",
       "      <th>total sulfur dioxide</th>\n",
       "      <th>density</th>\n",
       "      <th>pH</th>\n",
       "      <th>sulphates</th>\n",
       "      <th>alcohol</th>\n",
       "      <th>quality</th>\n",
       "    </tr>\n",
       "  </thead>\n",
       "  <tbody>\n",
       "    <tr>\n",
       "      <td>2781</td>\n",
       "      <td>7.8</td>\n",
       "      <td>0.965</td>\n",
       "      <td>0.6</td>\n",
       "      <td>65.8</td>\n",
       "      <td>0.074</td>\n",
       "      <td>8.0</td>\n",
       "      <td>160.0</td>\n",
       "      <td>1.03898</td>\n",
       "      <td>3.39</td>\n",
       "      <td>0.69</td>\n",
       "      <td>11.7</td>\n",
       "      <td>6</td>\n",
       "    </tr>\n",
       "  </tbody>\n",
       "</table>\n",
       "</div>"
      ],
      "text/plain": [
       "      fixed acidity  volatile acidity  citric acid  residual sugar  chlorides  \\\n",
       "2781            7.8             0.965          0.6            65.8      0.074   \n",
       "\n",
       "      free sulfur dioxide  total sulfur dioxide  density    pH  sulphates  \\\n",
       "2781                  8.0                 160.0  1.03898  3.39       0.69   \n",
       "\n",
       "      alcohol  quality  \n",
       "2781     11.7        6  "
      ]
     },
     "execution_count": 144,
     "metadata": {},
     "output_type": "execute_result"
    }
   ],
   "source": [
    "condicion=df['density']>=1.03\n",
    "df[condicion]"
   ]
  },
  {
   "cell_type": "code",
   "execution_count": 145,
   "metadata": {},
   "outputs": [],
   "source": [
    "df=df.drop(df[df['density']==1.03898].index)"
   ]
  },
  {
   "cell_type": "markdown",
   "metadata": {},
   "source": [
    "Notemos por último que la variable fre sulfur dioxide está \"incluida\" en la variable total sulfur dioxide y dada la correlación\n",
    "que hay entre ambas, optamos por eliminarla:"
   ]
  },
  {
   "cell_type": "code",
   "execution_count": 146,
   "metadata": {},
   "outputs": [],
   "source": [
    "df=df.drop ('free sulfur dioxide',axis=1)\n"
   ]
  },
  {
   "cell_type": "markdown",
   "metadata": {},
   "source": [
    "## Preprocesamiento"
   ]
  },
  {
   "cell_type": "markdown",
   "metadata": {},
   "source": [
    "### Datos faltantes"
   ]
  },
  {
   "cell_type": "code",
   "execution_count": 147,
   "metadata": {},
   "outputs": [
    {
     "data": {
      "text/plain": [
       "fixed acidity           0\n",
       "volatile acidity        0\n",
       "citric acid             0\n",
       "residual sugar          0\n",
       "chlorides               0\n",
       "total sulfur dioxide    0\n",
       "density                 0\n",
       "pH                      0\n",
       "sulphates               0\n",
       "alcohol                 0\n",
       "quality                 0\n",
       "dtype: int64"
      ]
     },
     "execution_count": 147,
     "metadata": {},
     "output_type": "execute_result"
    }
   ],
   "source": [
    "df.isnull().sum()"
   ]
  },
  {
   "cell_type": "markdown",
   "metadata": {},
   "source": [
    "Vemos que no hay datos faltantes."
   ]
  },
  {
   "cell_type": "markdown",
   "metadata": {},
   "source": [
    "### División en train y test"
   ]
  },
  {
   "cell_type": "code",
   "execution_count": 148,
   "metadata": {},
   "outputs": [],
   "source": [
    "X=df.drop('quality',axis=1) #Separando datos entre variables predictivas y variable objetivo.\n",
    "Y=df['quality']"
   ]
  },
  {
   "cell_type": "code",
   "execution_count": 149,
   "metadata": {},
   "outputs": [],
   "source": [
    "X_train, X_test, Y_train, Y_test = train_test_split(X, Y, test_size=0.2, random_state=8)"
   ]
  },
  {
   "cell_type": "code",
   "execution_count": 150,
   "metadata": {},
   "outputs": [
    {
     "data": {
      "text/plain": [
       "((3917, 10), (980, 10))"
      ]
     },
     "execution_count": 150,
     "metadata": {},
     "output_type": "execute_result"
    }
   ],
   "source": [
    "X_train.shape,X_test.shape"
   ]
  },
  {
   "cell_type": "markdown",
   "metadata": {},
   "source": [
    "### Normalización"
   ]
  },
  {
   "cell_type": "code",
   "execution_count": 151,
   "metadata": {},
   "outputs": [],
   "source": [
    "X_train = StandardScaler().fit_transform(X_train)\n",
    "X_test = StandardScaler().fit_transform(X_test)\n"
   ]
  },
  {
   "cell_type": "markdown",
   "metadata": {},
   "source": [
    "## Modelación (Machine Learning)"
   ]
  },
  {
   "cell_type": "markdown",
   "metadata": {},
   "source": [
    "Implementaremos 2 modelos diferentes para comparar:  SVM y Bosque aleatorio (Random Forest)"
   ]
  },
  {
   "cell_type": "markdown",
   "metadata": {},
   "source": [
    "### SVM multiclase"
   ]
  },
  {
   "cell_type": "markdown",
   "metadata": {},
   "source": [
    "Modelaremos ahora con el método Support Vector Machine en su versión multiclase.(Tenemos 7 clases diferentes)"
   ]
  },
  {
   "cell_type": "code",
   "execution_count": 343,
   "metadata": {},
   "outputs": [],
   "source": [
    "model2 = svm.SVC(random_state=3,C=35)"
   ]
  },
  {
   "cell_type": "code",
   "execution_count": 344,
   "metadata": {},
   "outputs": [
    {
     "data": {
      "text/plain": [
       "SVC(C=35, break_ties=False, cache_size=200, class_weight=None, coef0=0.0,\n",
       "    decision_function_shape='ovr', degree=3, gamma='scale', kernel='rbf',\n",
       "    max_iter=-1, probability=False, random_state=3, shrinking=True, tol=0.001,\n",
       "    verbose=False)"
      ]
     },
     "execution_count": 344,
     "metadata": {},
     "output_type": "execute_result"
    }
   ],
   "source": [
    "model2.fit(X_train,Y_train)"
   ]
  },
  {
   "cell_type": "code",
   "execution_count": 345,
   "metadata": {},
   "outputs": [],
   "source": [
    "YHAT=model2.predict(X_test)"
   ]
  },
  {
   "cell_type": "code",
   "execution_count": 346,
   "metadata": {},
   "outputs": [
    {
     "data": {
      "text/plain": [
       "0.5918367346938775"
      ]
     },
     "execution_count": 346,
     "metadata": {},
     "output_type": "execute_result"
    }
   ],
   "source": [
    "accuracy_score(Y_test,YHAT)"
   ]
  },
  {
   "cell_type": "markdown",
   "metadata": {},
   "source": [
    "**Vemos que la precisión del modelo está en 59.1%**"
   ]
  },
  {
   "cell_type": "code",
   "execution_count": 347,
   "metadata": {},
   "outputs": [
    {
     "data": {
      "text/plain": [
       "6    44.864203\n",
       "5    29.752910\n",
       "7    17.970186\n",
       "8     3.573616\n",
       "4     3.328569\n",
       "3     0.408413\n",
       "9     0.102103\n",
       "Name: quality, dtype: float64"
      ]
     },
     "execution_count": 347,
     "metadata": {},
     "output_type": "execute_result"
    }
   ],
   "source": [
    "df['quality'].value_counts()/df.shape[0]*100"
   ]
  },
  {
   "cell_type": "markdown",
   "metadata": {},
   "source": [
    "Vemos que más del 90% de los vinos tienen calificación 5, 6 ó 7. Es por esto que en el archivo predictivo Yhat no se ven calificaciones 3,4,8 ó 9."
   ]
  },
  {
   "cell_type": "code",
   "execution_count": 348,
   "metadata": {},
   "outputs": [
    {
     "data": {
      "text/plain": [
       "array([6, 6, 5, 7, 6, 6, 5, 5, 7, 5, 6, 7, 7, 6, 5, 6, 5, 6, 8, 6, 5, 6,\n",
       "       6, 6, 6, 6, 7, 5, 6, 6, 5, 6, 6, 6, 4, 5, 6, 6, 5, 5, 5, 5, 7, 6,\n",
       "       6, 6, 7, 6, 7, 6, 5, 7, 7, 6, 6, 6, 7, 7, 5, 7, 6, 6, 6, 7, 7, 6,\n",
       "       7, 6, 6, 7, 7, 6, 7, 6, 5, 6, 6, 6, 7, 5, 6, 7, 5, 5, 6, 6, 6, 5,\n",
       "       6, 6, 5, 7, 4, 5, 6, 6, 6, 5, 6, 5, 6, 7, 6, 5, 7, 6, 6, 3, 6, 7,\n",
       "       5, 6, 6, 6, 6, 6, 4, 7, 7, 7, 6, 6, 5, 6, 6, 6, 6, 7, 5, 6, 6, 5,\n",
       "       7, 6, 4, 5, 6, 7, 6, 6, 6, 6, 6, 6, 6, 5, 6, 5, 6, 6, 6, 5, 6, 6,\n",
       "       5, 6, 6, 6, 7, 6, 7, 6, 6, 6, 6, 5, 6, 6, 6, 5, 6, 6, 6, 6, 7, 6,\n",
       "       5, 5, 6, 5, 6, 7, 6, 5, 5, 6, 6, 6, 6, 6, 5, 6, 7, 7, 6, 6, 6, 6,\n",
       "       5, 6, 7, 6, 4, 5, 5, 6, 6, 6, 5, 8, 6, 6, 7, 6, 6, 5, 6, 6, 6, 6,\n",
       "       6, 5, 7, 6, 6, 5, 5, 6, 5, 5, 5, 6, 5, 5, 7, 7, 6, 8, 6, 6, 6, 6,\n",
       "       5, 5, 5, 6, 6, 6, 6, 6, 6, 7, 5, 7, 5, 6, 6, 6, 4, 6, 5, 6, 6, 6,\n",
       "       5, 6, 6, 6, 6, 5, 5, 4, 5, 7, 6, 6, 6, 5, 7, 5, 6, 6, 6, 7, 7, 6,\n",
       "       5, 8, 7, 5, 6, 7, 6, 7, 7, 6, 6, 6, 6, 5, 6, 5, 5, 6, 6, 7, 7, 5,\n",
       "       5, 6, 6, 4, 6, 5, 6, 7, 8, 5, 5, 6, 6, 6, 5, 6, 5, 7, 6, 5, 6, 6,\n",
       "       5, 6, 7, 6, 5, 6, 6, 6, 5, 5, 5, 5, 5, 5, 6, 6, 5, 6, 5, 5, 6, 5,\n",
       "       5, 6, 6, 6, 4, 6, 6, 6, 5, 6, 7, 6, 6, 7, 5, 8, 6, 5, 5, 5, 7, 6,\n",
       "       5, 5, 6, 5, 6, 5, 5, 7, 5, 5, 6, 7, 6, 6, 6, 6, 5, 5, 5, 5, 6, 6,\n",
       "       6, 6, 5, 7, 6, 6, 6, 6, 6, 6, 5, 6, 5, 6, 6, 5, 6, 6, 5, 7, 5, 6,\n",
       "       6, 8, 7, 6, 4, 6, 5, 6, 5, 6, 5, 5, 6, 5, 6, 6, 6, 5, 6, 5, 6, 5,\n",
       "       6, 5, 5, 6, 6, 6, 6, 6, 5, 7, 6, 7, 6, 6, 6, 6, 6, 6, 6, 6, 7, 5,\n",
       "       5, 6, 6, 6, 6, 6, 6, 6, 5, 8, 7, 6, 5, 8, 6, 6, 5, 6, 5, 5, 7, 5,\n",
       "       6, 7, 6, 6, 6, 6, 6, 6, 7, 6, 7, 7, 6, 6, 6, 7, 6, 6, 5, 6, 6, 6,\n",
       "       6, 6, 6, 6, 6, 5, 6, 6, 5, 6, 5, 5, 5, 7, 6, 6, 5, 6, 5, 5, 5, 6,\n",
       "       6, 6, 5, 5, 5, 6, 5, 6, 6, 6, 4, 6, 6, 6, 5, 5, 6, 6, 6, 6, 6, 5,\n",
       "       5, 5, 5, 6, 6, 6, 7, 6, 6, 6, 6, 7, 6, 6, 7, 5, 5, 6, 5, 5, 5, 7,\n",
       "       6, 7, 5, 7, 6, 5, 6, 6, 5, 6, 6, 6, 8, 5, 6, 5, 4, 7, 6, 6, 5, 6,\n",
       "       6, 7, 6, 4, 6, 5, 5, 6, 5, 5, 5, 7, 7, 6, 7, 6, 5, 5, 5, 6, 6, 5,\n",
       "       8, 6, 6, 6, 6, 6, 6, 6, 6, 6, 6, 5, 5, 5, 5, 6, 5, 6, 5, 5, 7, 4,\n",
       "       6, 6, 7, 6, 5, 7, 6, 5, 6, 6, 7, 6, 5, 8, 6, 6, 7, 6, 7, 5, 5, 6,\n",
       "       7, 5, 7, 6, 6, 6, 5, 6, 6, 5, 5, 6, 5, 6, 6, 6, 6, 8, 5, 7, 4, 7,\n",
       "       8, 6, 6, 6, 7, 5, 6, 4, 6, 7, 7, 7, 5, 5, 5, 5, 6, 6, 7, 6, 7, 7,\n",
       "       6, 7, 6, 6, 5, 6, 6, 6, 5, 6, 6, 5, 6, 6, 4, 5, 6, 5, 6, 6, 6, 7,\n",
       "       6, 5, 5, 6, 6, 7, 5, 5, 6, 6, 5, 5, 6, 7, 5, 6, 6, 5, 6, 6, 6, 6,\n",
       "       6, 7, 6, 5, 6, 6, 7, 6, 5, 3, 5, 5, 7, 6, 5, 5, 6, 6, 6, 6, 6, 5,\n",
       "       7, 7, 6, 5, 6, 6, 6, 6, 6, 6, 5, 6, 6, 6, 6, 5, 4, 5, 5, 6, 6, 6,\n",
       "       7, 5, 5, 5, 7, 5, 6, 5, 5, 6, 6, 6, 6, 7, 7, 7, 6, 7, 6, 8, 6, 6,\n",
       "       6, 5, 6, 5, 5, 6, 5, 6, 5, 6, 6, 6, 6, 6, 5, 6, 6, 6, 5, 6, 6, 6,\n",
       "       7, 5, 5, 5, 5, 6, 7, 5, 6, 6, 6, 6, 8, 6, 8, 5, 6, 6, 6, 7, 7, 6,\n",
       "       5, 6, 6, 6, 6, 5, 5, 5, 5, 6, 7, 6, 4, 6, 6, 6, 7, 4, 6, 7, 6, 6,\n",
       "       4, 5, 7, 5, 6, 3, 5, 6, 5, 6, 6, 7, 6, 6, 7, 5, 6, 5, 6, 7, 6, 6,\n",
       "       6, 6, 5, 6, 6, 6, 5, 6, 5, 5, 5, 5, 6, 6, 5, 5, 6, 6, 6, 5, 7, 6,\n",
       "       6, 7, 5, 5, 6, 6, 6, 6, 6, 6, 7, 6, 5, 6, 6, 5, 6, 6, 6, 7, 6, 5,\n",
       "       5, 6, 6, 6, 6, 5, 7, 7, 5, 5, 7, 5, 6, 5, 6, 6, 6, 6, 5, 6, 5, 7,\n",
       "       6, 6, 6, 6, 6, 6, 7, 6, 6, 6, 7, 6], dtype=int64)"
      ]
     },
     "execution_count": 348,
     "metadata": {},
     "output_type": "execute_result"
    }
   ],
   "source": [
    "YHAT"
   ]
  },
  {
   "cell_type": "markdown",
   "metadata": {},
   "source": [
    "### Bosque aleatorio (Random Forest)"
   ]
  },
  {
   "cell_type": "code",
   "execution_count": 161,
   "metadata": {},
   "outputs": [],
   "source": [
    "# n_estimators=número de árboles\n",
    "model3 = RandomForestClassifier(n_estimators=75, \n",
    "                               bootstrap = True, verbose=2,max_features = 'sqrt',random_state=2,max_depth=24\n",
    "                               )\n"
   ]
  },
  {
   "cell_type": "markdown",
   "metadata": {},
   "source": [
    "#### Entrenamiento"
   ]
  },
  {
   "cell_type": "code",
   "execution_count": 163,
   "metadata": {},
   "outputs": [
    {
     "name": "stdout",
     "output_type": "stream",
     "text": [
      "building tree 1 of 75\n",
      "building tree 2 of 75\n",
      "building tree 3 of 75\n"
     ]
    },
    {
     "name": "stderr",
     "output_type": "stream",
     "text": [
      "[Parallel(n_jobs=1)]: Using backend SequentialBackend with 1 concurrent workers.\n",
      "[Parallel(n_jobs=1)]: Done   1 out of   1 | elapsed:    0.0s remaining:    0.0s\n"
     ]
    },
    {
     "name": "stdout",
     "output_type": "stream",
     "text": [
      "building tree 4 of 75\n",
      "building tree 5 of 75\n",
      "building tree 6 of 75\n",
      "building tree 7 of 75\n",
      "building tree 8 of 75\n",
      "building tree 9 of 75\n",
      "building tree 10 of 75\n",
      "building tree 11 of 75\n",
      "building tree 12 of 75\n",
      "building tree 13 of 75\n",
      "building tree 14 of 75\n",
      "building tree 15 of 75\n",
      "building tree 16 of 75\n",
      "building tree 17 of 75\n",
      "building tree 18 of 75\n",
      "building tree 19 of 75\n",
      "building tree 20 of 75\n",
      "building tree 21 of 75\n",
      "building tree 22 of 75\n",
      "building tree 23 of 75\n",
      "building tree 24 of 75\n",
      "building tree 25 of 75\n",
      "building tree 26 of 75\n",
      "building tree 27 of 75\n",
      "building tree 28 of 75\n",
      "building tree 29 of 75\n",
      "building tree 30 of 75\n",
      "building tree 31 of 75\n",
      "building tree 32 of 75\n",
      "building tree 33 of 75\n",
      "building tree 34 of 75\n",
      "building tree 35 of 75\n",
      "building tree 36 of 75\n",
      "building tree 37 of 75\n",
      "building tree 38 of 75\n",
      "building tree 39 of 75\n",
      "building tree 40 of 75\n",
      "building tree 41 of 75\n",
      "building tree 42 of 75\n",
      "building tree 43 of 75\n",
      "building tree 44 of 75\n",
      "building tree 45 of 75\n",
      "building tree 46 of 75\n",
      "building tree 47 of 75\n",
      "building tree 48 of 75\n",
      "building tree 49 of 75\n",
      "building tree 50 of 75\n",
      "building tree 51 of 75\n",
      "building tree 52 of 75\n",
      "building tree 53 of 75\n",
      "building tree 54 of 75\n",
      "building tree 55 of 75\n",
      "building tree 56 of 75\n",
      "building tree 57 of 75\n",
      "building tree 58 of 75\n",
      "building tree 59 of 75\n",
      "building tree 60 of 75\n",
      "building tree 61 of 75\n",
      "building tree 62 of 75\n",
      "building tree 63 of 75\n",
      "building tree 64 of 75\n",
      "building tree 65 of 75\n",
      "building tree 66 of 75\n",
      "building tree 67 of 75\n",
      "building tree 68 of 75\n",
      "building tree 69 of 75\n",
      "building tree 70 of 75\n",
      "building tree 71 of 75\n",
      "building tree 72 of 75\n",
      "building tree 73 of 75\n",
      "building tree 74 of 75\n",
      "building tree 75 of 75\n"
     ]
    },
    {
     "name": "stderr",
     "output_type": "stream",
     "text": [
      "[Parallel(n_jobs=1)]: Done  75 out of  75 | elapsed:    0.6s finished\n"
     ]
    },
    {
     "data": {
      "text/plain": [
       "RandomForestClassifier(bootstrap=True, ccp_alpha=0.0, class_weight=None,\n",
       "                       criterion='gini', max_depth=24, max_features='sqrt',\n",
       "                       max_leaf_nodes=None, max_samples=None,\n",
       "                       min_impurity_decrease=0.0, min_impurity_split=None,\n",
       "                       min_samples_leaf=1, min_samples_split=2,\n",
       "                       min_weight_fraction_leaf=0.0, n_estimators=75,\n",
       "                       n_jobs=None, oob_score=False, random_state=2, verbose=2,\n",
       "                       warm_start=False)"
      ]
     },
     "execution_count": 163,
     "metadata": {},
     "output_type": "execute_result"
    }
   ],
   "source": [
    "model3.fit(X_train, Y_train)"
   ]
  },
  {
   "cell_type": "code",
   "execution_count": 164,
   "metadata": {},
   "outputs": [
    {
     "name": "stderr",
     "output_type": "stream",
     "text": [
      "[Parallel(n_jobs=1)]: Using backend SequentialBackend with 1 concurrent workers.\n",
      "[Parallel(n_jobs=1)]: Done   1 out of   1 | elapsed:    0.0s remaining:    0.0s\n",
      "[Parallel(n_jobs=1)]: Done  75 out of  75 | elapsed:    0.0s finished\n"
     ]
    }
   ],
   "source": [
    "YT=model3.predict(X_train)"
   ]
  },
  {
   "cell_type": "code",
   "execution_count": 165,
   "metadata": {},
   "outputs": [
    {
     "name": "stdout",
     "output_type": "stream",
     "text": [
      "[[  18    0    0    0    0    0    0]\n",
      " [   0  138    0    0    0    0    0]\n",
      " [   0    0 1157    0    0    0    0]\n",
      " [   0    0    0 1745    0    0    0]\n",
      " [   0    0    0    0  716    0    0]\n",
      " [   0    0    0    0    0  140    0]\n",
      " [   0    0    0    0    0    0    3]]\n",
      "              precision    recall  f1-score   support\n",
      "\n",
      "           3       1.00      1.00      1.00        18\n",
      "           4       1.00      1.00      1.00       138\n",
      "           5       1.00      1.00      1.00      1157\n",
      "           6       1.00      1.00      1.00      1745\n",
      "           7       1.00      1.00      1.00       716\n",
      "           8       1.00      1.00      1.00       140\n",
      "           9       1.00      1.00      1.00         3\n",
      "\n",
      "    accuracy                           1.00      3917\n",
      "   macro avg       1.00      1.00      1.00      3917\n",
      "weighted avg       1.00      1.00      1.00      3917\n",
      "\n",
      "1.0\n"
     ]
    }
   ],
   "source": [
    "print(confusion_matrix(Y_train,YT))\n",
    "print(classification_report(Y_train,YT))\n",
    "print(accuracy_score(Y_train, YT))"
   ]
  },
  {
   "cell_type": "markdown",
   "metadata": {},
   "source": [
    "**Claramente tenemos overfitting!.**"
   ]
  },
  {
   "cell_type": "markdown",
   "metadata": {},
   "source": [
    "### Prediccion con data_train y evaluación modelo"
   ]
  },
  {
   "cell_type": "code",
   "execution_count": 166,
   "metadata": {},
   "outputs": [
    {
     "name": "stderr",
     "output_type": "stream",
     "text": [
      "[Parallel(n_jobs=1)]: Using backend SequentialBackend with 1 concurrent workers.\n",
      "[Parallel(n_jobs=1)]: Done   1 out of   1 | elapsed:    0.0s remaining:    0.0s\n",
      "[Parallel(n_jobs=1)]: Done  75 out of  75 | elapsed:    0.0s finished\n"
     ]
    }
   ],
   "source": [
    "Yrandom=model3.predict(X_test)"
   ]
  },
  {
   "cell_type": "code",
   "execution_count": 167,
   "metadata": {},
   "outputs": [
    {
     "name": "stdout",
     "output_type": "stream",
     "text": [
      "[[  0   0   0   2   0   0   0]\n",
      " [  0   7  13   5   0   0   0]\n",
      " [  0   2 206  89   3   0   0]\n",
      " [  0   0  56 364  31   1   0]\n",
      " [  0   0   3  64  97   0   0]\n",
      " [  0   0   0  12   8  15   0]\n",
      " [  0   0   1   1   0   0   0]]\n",
      "              precision    recall  f1-score   support\n",
      "\n",
      "           3       0.00      0.00      0.00         2\n",
      "           4       0.78      0.28      0.41        25\n",
      "           5       0.74      0.69      0.71       300\n",
      "           6       0.68      0.81      0.74       452\n",
      "           7       0.70      0.59      0.64       164\n",
      "           8       0.94      0.43      0.59        35\n",
      "           9       0.00      0.00      0.00         2\n",
      "\n",
      "    accuracy                           0.70       980\n",
      "   macro avg       0.55      0.40      0.44       980\n",
      "weighted avg       0.71      0.70      0.70       980\n",
      "\n",
      "0.7030612244897959\n"
     ]
    }
   ],
   "source": [
    "print(confusion_matrix(Y_test,Yrandom))\n",
    "print(classification_report(Y_test,Yrandom))\n",
    "print(accuracy_score(Y_test, Yrandom))"
   ]
  },
  {
   "cell_type": "markdown",
   "metadata": {},
   "source": [
    "**Precisión del 70.3%**"
   ]
  },
  {
   "cell_type": "markdown",
   "metadata": {},
   "source": [
    "#### Importancia de variables en modelo"
   ]
  },
  {
   "cell_type": "code",
   "execution_count": 168,
   "metadata": {},
   "outputs": [
    {
     "name": "stdout",
     "output_type": "stream",
     "text": [
      "('fixed acidity', 0.0839175110355136)\n",
      "('volatile acidity', 0.11028859522914168)\n",
      "('citric acid', 0.09115988515560336)\n",
      "('residual sugar', 0.0957135238290038)\n",
      "('chlorides', 0.09417160792954526)\n",
      "('total sulfur dioxide', 0.10286904226864418)\n",
      "('density', 0.11250069955660073)\n",
      "('pH', 0.09402979122544738)\n",
      "('sulphates', 0.09077248255067633)\n",
      "('alcohol', 0.12457686121982373)\n"
     ]
    }
   ],
   "source": [
    "labels=['fixed acidity', 'volatile acidity', 'citric acid',\n",
    "       'residual sugar', 'chlorides', 'total sulfur dioxide', 'density',\n",
    "       'pH', 'sulphates', 'alcohol', 'quality']\n",
    "for feature in zip(labels, model3.feature_importances_):\n",
    "    print(feature)"
   ]
  },
  {
   "cell_type": "markdown",
   "metadata": {},
   "source": [
    "Las variables más importantes son volatile acidity,total sulfur dioxide,density y la más importante es alcohol.\n",
    "La menos importante es fixed acidity."
   ]
  },
  {
   "cell_type": "code",
   "execution_count": null,
   "metadata": {},
   "outputs": [],
   "source": []
  }
 ],
 "metadata": {
  "kernelspec": {
   "display_name": "Python 3",
   "language": "python",
   "name": "python3"
  },
  "language_info": {
   "codemirror_mode": {
    "name": "ipython",
    "version": 3
   },
   "file_extension": ".py",
   "mimetype": "text/x-python",
   "name": "python",
   "nbconvert_exporter": "python",
   "pygments_lexer": "ipython3",
   "version": "3.7.4"
  }
 },
 "nbformat": 4,
 "nbformat_minor": 2
}
