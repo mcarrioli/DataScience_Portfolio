{
 "cells": [
  {
   "cell_type": "markdown",
   "metadata": {},
   "source": [
    "## En este Notebook se construye un Modelo predictivo usando árboles de decisión (Decision Trees) y también con Random Forest\n"
   ]
  },
  {
   "cell_type": "code",
   "execution_count": 71,
   "metadata": {},
   "outputs": [],
   "source": [
    "import numpy as np \n",
    "import pandas as pd \n",
    "import matplotlib.pyplot as plt \n",
    "%matplotlib inline\n",
    "import matplotlib as mpl \n",
    "mpl.rcParams['figure.dpi'] = 200\n",
    "import pickle\n",
    "\n",
    "\n"
   ]
  },
  {
   "cell_type": "code",
   "execution_count": 41,
   "metadata": {},
   "outputs": [],
   "source": [
    "df = pd.read_csv('df_clean_4.csv')\n"
   ]
  },
  {
   "cell_type": "code",
   "execution_count": 42,
   "metadata": {},
   "outputs": [
    {
     "data": {
      "text/html": [
       "<div>\n",
       "<style scoped>\n",
       "    .dataframe tbody tr th:only-of-type {\n",
       "        vertical-align: middle;\n",
       "    }\n",
       "\n",
       "    .dataframe tbody tr th {\n",
       "        vertical-align: top;\n",
       "    }\n",
       "\n",
       "    .dataframe thead th {\n",
       "        text-align: right;\n",
       "    }\n",
       "</style>\n",
       "<table border=\"1\" class=\"dataframe\">\n",
       "  <thead>\n",
       "    <tr style=\"text-align: right;\">\n",
       "      <th></th>\n",
       "      <th>ID</th>\n",
       "      <th>LIMIT_BAL</th>\n",
       "      <th>SEX</th>\n",
       "      <th>EDUCATION</th>\n",
       "      <th>MARRIAGE</th>\n",
       "      <th>AGE</th>\n",
       "      <th>PAY_1</th>\n",
       "      <th>PAY_2</th>\n",
       "      <th>PAY_3</th>\n",
       "      <th>PAY_4</th>\n",
       "      <th>...</th>\n",
       "      <th>PAY_AMT3</th>\n",
       "      <th>PAY_AMT4</th>\n",
       "      <th>PAY_AMT5</th>\n",
       "      <th>PAY_AMT6</th>\n",
       "      <th>default payment next month</th>\n",
       "      <th>EDUCATION_CAT</th>\n",
       "      <th>graduate school</th>\n",
       "      <th>high school</th>\n",
       "      <th>others</th>\n",
       "      <th>university</th>\n",
       "    </tr>\n",
       "  </thead>\n",
       "  <tbody>\n",
       "    <tr>\n",
       "      <th>0</th>\n",
       "      <td>798fc410-45c1</td>\n",
       "      <td>20000</td>\n",
       "      <td>2</td>\n",
       "      <td>2</td>\n",
       "      <td>1</td>\n",
       "      <td>24</td>\n",
       "      <td>2</td>\n",
       "      <td>2</td>\n",
       "      <td>-1</td>\n",
       "      <td>-1</td>\n",
       "      <td>...</td>\n",
       "      <td>0</td>\n",
       "      <td>0</td>\n",
       "      <td>0</td>\n",
       "      <td>0</td>\n",
       "      <td>1</td>\n",
       "      <td>university</td>\n",
       "      <td>0</td>\n",
       "      <td>0</td>\n",
       "      <td>0</td>\n",
       "      <td>1</td>\n",
       "    </tr>\n",
       "    <tr>\n",
       "      <th>1</th>\n",
       "      <td>8a8c8f3b-8eb4</td>\n",
       "      <td>120000</td>\n",
       "      <td>2</td>\n",
       "      <td>2</td>\n",
       "      <td>2</td>\n",
       "      <td>26</td>\n",
       "      <td>-1</td>\n",
       "      <td>2</td>\n",
       "      <td>0</td>\n",
       "      <td>0</td>\n",
       "      <td>...</td>\n",
       "      <td>1000</td>\n",
       "      <td>1000</td>\n",
       "      <td>0</td>\n",
       "      <td>2000</td>\n",
       "      <td>1</td>\n",
       "      <td>university</td>\n",
       "      <td>0</td>\n",
       "      <td>0</td>\n",
       "      <td>0</td>\n",
       "      <td>1</td>\n",
       "    </tr>\n",
       "    <tr>\n",
       "      <th>2</th>\n",
       "      <td>85698822-43f5</td>\n",
       "      <td>90000</td>\n",
       "      <td>2</td>\n",
       "      <td>2</td>\n",
       "      <td>2</td>\n",
       "      <td>34</td>\n",
       "      <td>0</td>\n",
       "      <td>0</td>\n",
       "      <td>0</td>\n",
       "      <td>0</td>\n",
       "      <td>...</td>\n",
       "      <td>1000</td>\n",
       "      <td>1000</td>\n",
       "      <td>1000</td>\n",
       "      <td>5000</td>\n",
       "      <td>0</td>\n",
       "      <td>university</td>\n",
       "      <td>0</td>\n",
       "      <td>0</td>\n",
       "      <td>0</td>\n",
       "      <td>1</td>\n",
       "    </tr>\n",
       "    <tr>\n",
       "      <th>3</th>\n",
       "      <td>0737c11b-be42</td>\n",
       "      <td>50000</td>\n",
       "      <td>2</td>\n",
       "      <td>2</td>\n",
       "      <td>1</td>\n",
       "      <td>37</td>\n",
       "      <td>0</td>\n",
       "      <td>0</td>\n",
       "      <td>0</td>\n",
       "      <td>0</td>\n",
       "      <td>...</td>\n",
       "      <td>1200</td>\n",
       "      <td>1100</td>\n",
       "      <td>1069</td>\n",
       "      <td>1000</td>\n",
       "      <td>0</td>\n",
       "      <td>university</td>\n",
       "      <td>0</td>\n",
       "      <td>0</td>\n",
       "      <td>0</td>\n",
       "      <td>1</td>\n",
       "    </tr>\n",
       "    <tr>\n",
       "      <th>4</th>\n",
       "      <td>3b7f77cc-dbc0</td>\n",
       "      <td>50000</td>\n",
       "      <td>1</td>\n",
       "      <td>2</td>\n",
       "      <td>1</td>\n",
       "      <td>57</td>\n",
       "      <td>-1</td>\n",
       "      <td>0</td>\n",
       "      <td>-1</td>\n",
       "      <td>0</td>\n",
       "      <td>...</td>\n",
       "      <td>10000</td>\n",
       "      <td>9000</td>\n",
       "      <td>689</td>\n",
       "      <td>679</td>\n",
       "      <td>0</td>\n",
       "      <td>university</td>\n",
       "      <td>0</td>\n",
       "      <td>0</td>\n",
       "      <td>0</td>\n",
       "      <td>1</td>\n",
       "    </tr>\n",
       "  </tbody>\n",
       "</table>\n",
       "<p>5 rows × 30 columns</p>\n",
       "</div>"
      ],
      "text/plain": [
       "              ID  LIMIT_BAL  SEX  EDUCATION  MARRIAGE  AGE  PAY_1  PAY_2  \\\n",
       "0  798fc410-45c1      20000    2          2         1   24      2      2   \n",
       "1  8a8c8f3b-8eb4     120000    2          2         2   26     -1      2   \n",
       "2  85698822-43f5      90000    2          2         2   34      0      0   \n",
       "3  0737c11b-be42      50000    2          2         1   37      0      0   \n",
       "4  3b7f77cc-dbc0      50000    1          2         1   57     -1      0   \n",
       "\n",
       "   PAY_3  PAY_4  ...  PAY_AMT3  PAY_AMT4  PAY_AMT5  PAY_AMT6  \\\n",
       "0     -1     -1  ...         0         0         0         0   \n",
       "1      0      0  ...      1000      1000         0      2000   \n",
       "2      0      0  ...      1000      1000      1000      5000   \n",
       "3      0      0  ...      1200      1100      1069      1000   \n",
       "4     -1      0  ...     10000      9000       689       679   \n",
       "\n",
       "   default payment next month  EDUCATION_CAT  graduate school  high school  \\\n",
       "0                           1     university                0            0   \n",
       "1                           1     university                0            0   \n",
       "2                           0     university                0            0   \n",
       "3                           0     university                0            0   \n",
       "4                           0     university                0            0   \n",
       "\n",
       "   others  university  \n",
       "0       0           1  \n",
       "1       0           1  \n",
       "2       0           1  \n",
       "3       0           1  \n",
       "4       0           1  \n",
       "\n",
       "[5 rows x 30 columns]"
      ]
     },
     "execution_count": 42,
     "metadata": {},
     "output_type": "execute_result"
    }
   ],
   "source": [
    "df.head()"
   ]
  },
  {
   "cell_type": "code",
   "execution_count": 43,
   "metadata": {},
   "outputs": [],
   "source": [
    "features_response = df.columns.tolist()"
   ]
  },
  {
   "cell_type": "code",
   "execution_count": 44,
   "metadata": {},
   "outputs": [],
   "source": [
    "items_to_remove = ['ID', 'PAY_2', 'PAY_3',\\\n",
    "'PAY_4', 'PAY_5', 'PAY_6',\\\n",
    "'EDUCATION_CAT', 'graduate school',\\\n",
    "'high school', 'none',\\\n",
    "'others', 'university']"
   ]
  },
  {
   "cell_type": "code",
   "execution_count": 45,
   "metadata": {},
   "outputs": [
    {
     "data": {
      "text/plain": [
       "['LIMIT_BAL',\n",
       " 'SEX',\n",
       " 'EDUCATION',\n",
       " 'MARRIAGE',\n",
       " 'AGE',\n",
       " 'PAY_1',\n",
       " 'BILL_AMT1',\n",
       " 'BILL_AMT2',\n",
       " 'BILL_AMT3',\n",
       " 'BILL_AMT4',\n",
       " 'BILL_AMT5',\n",
       " 'BILL_AMT6',\n",
       " 'PAY_AMT1',\n",
       " 'PAY_AMT2',\n",
       " 'PAY_AMT3',\n",
       " 'PAY_AMT4',\n",
       " 'PAY_AMT5',\n",
       " 'PAY_AMT6',\n",
       " 'default payment next month']"
      ]
     },
     "execution_count": 45,
     "metadata": {},
     "output_type": "execute_result"
    }
   ],
   "source": [
    "features_response = [item for item in features_response if item not in\n",
    "items_to_remove]\n",
    "features_response"
   ]
  },
  {
   "cell_type": "code",
   "execution_count": 46,
   "metadata": {},
   "outputs": [],
   "source": [
    "from sklearn.model_selection import train_test_split\n",
    "from sklearn import tree"
   ]
  },
  {
   "cell_type": "code",
   "execution_count": 47,
   "metadata": {},
   "outputs": [],
   "source": [
    "X_train, X_test, y_train, y_test = \\\n",
    "train_test_split(df[features_response[:-1]].values,\n",
    "df['default payment next month'].values,\n",
    "test_size=0.2, random_state=24)"
   ]
  },
  {
   "cell_type": "code",
   "execution_count": 48,
   "metadata": {},
   "outputs": [],
   "source": [
    "dt = tree.DecisionTreeClassifier()"
   ]
  },
  {
   "cell_type": "markdown",
   "metadata": {},
   "source": [
    "### Usaremos GridSearchCV para testear en una grilla de hiperparámetros , usando cross-validation"
   ]
  },
  {
   "cell_type": "code",
   "execution_count": 49,
   "metadata": {},
   "outputs": [],
   "source": [
    "from sklearn.model_selection import GridSearchCV"
   ]
  },
  {
   "cell_type": "code",
   "execution_count": 50,
   "metadata": {},
   "outputs": [
    {
     "data": {
      "text/plain": [
       "(21331, 18)"
      ]
     },
     "execution_count": 50,
     "metadata": {},
     "output_type": "execute_result"
    }
   ],
   "source": [
    "X_train.shape"
   ]
  },
  {
   "cell_type": "markdown",
   "metadata": {},
   "source": [
    "Lista (diccionario) de hiperparámetros max_depth (profundidad de árbol a probar):"
   ]
  },
  {
   "cell_type": "code",
   "execution_count": 20,
   "metadata": {},
   "outputs": [],
   "source": [
    "params = {'max_depth':[1, 2, 4, 6, 8, 10, 12]}"
   ]
  },
  {
   "cell_type": "code",
   "execution_count": 21,
   "metadata": {},
   "outputs": [],
   "source": [
    "cv = GridSearchCV(dt, param_grid=params, scoring='roc_auc',\n",
    "n_jobs=None, refit=True, cv=4, verbose=1,\n",
    "pre_dispatch=None, error_score=np.nan,\n",
    "return_train_score=True)"
   ]
  },
  {
   "cell_type": "code",
   "execution_count": 22,
   "metadata": {},
   "outputs": [
    {
     "name": "stdout",
     "output_type": "stream",
     "text": [
      "Fitting 4 folds for each of 7 candidates, totalling 28 fits\n"
     ]
    },
    {
     "name": "stderr",
     "output_type": "stream",
     "text": [
      "[Parallel(n_jobs=1)]: Using backend SequentialBackend with 1 concurrent workers.\n",
      "[Parallel(n_jobs=1)]: Done  28 out of  28 | elapsed:    4.2s finished\n"
     ]
    },
    {
     "data": {
      "text/plain": [
       "GridSearchCV(cv=4, estimator=DecisionTreeClassifier(),\n",
       "             param_grid={'max_depth': [1, 2, 4, 6, 8, 10, 12]},\n",
       "             pre_dispatch=None, return_train_score=True, scoring='roc_auc',\n",
       "             verbose=1)"
      ]
     },
     "execution_count": 22,
     "metadata": {},
     "output_type": "execute_result"
    }
   ],
   "source": [
    "cv.fit(X_train, y_train)"
   ]
  },
  {
   "cell_type": "markdown",
   "metadata": {},
   "source": [
    "cross-validation results"
   ]
  },
  {
   "cell_type": "code",
   "execution_count": 23,
   "metadata": {},
   "outputs": [],
   "source": [
    "cv_results_df = pd.DataFrame(cv.cv_results_)"
   ]
  },
  {
   "cell_type": "code",
   "execution_count": 24,
   "metadata": {},
   "outputs": [
    {
     "data": {
      "text/html": [
       "<div>\n",
       "<style scoped>\n",
       "    .dataframe tbody tr th:only-of-type {\n",
       "        vertical-align: middle;\n",
       "    }\n",
       "\n",
       "    .dataframe tbody tr th {\n",
       "        vertical-align: top;\n",
       "    }\n",
       "\n",
       "    .dataframe thead th {\n",
       "        text-align: right;\n",
       "    }\n",
       "</style>\n",
       "<table border=\"1\" class=\"dataframe\">\n",
       "  <thead>\n",
       "    <tr style=\"text-align: right;\">\n",
       "      <th></th>\n",
       "      <th>mean_fit_time</th>\n",
       "      <th>std_fit_time</th>\n",
       "      <th>mean_score_time</th>\n",
       "      <th>std_score_time</th>\n",
       "      <th>param_max_depth</th>\n",
       "      <th>params</th>\n",
       "      <th>split0_test_score</th>\n",
       "      <th>split1_test_score</th>\n",
       "      <th>split2_test_score</th>\n",
       "      <th>split3_test_score</th>\n",
       "      <th>mean_test_score</th>\n",
       "      <th>std_test_score</th>\n",
       "      <th>rank_test_score</th>\n",
       "      <th>split0_train_score</th>\n",
       "      <th>split1_train_score</th>\n",
       "      <th>split2_train_score</th>\n",
       "      <th>split3_train_score</th>\n",
       "      <th>mean_train_score</th>\n",
       "      <th>std_train_score</th>\n",
       "    </tr>\n",
       "  </thead>\n",
       "  <tbody>\n",
       "    <tr>\n",
       "      <th>0</th>\n",
       "      <td>0.032133</td>\n",
       "      <td>0.012324</td>\n",
       "      <td>0.005518</td>\n",
       "      <td>0.006400</td>\n",
       "      <td>1</td>\n",
       "      <td>{'max_depth': 1}</td>\n",
       "      <td>0.639514</td>\n",
       "      <td>0.643398</td>\n",
       "      <td>0.651891</td>\n",
       "      <td>0.650753</td>\n",
       "      <td>0.646389</td>\n",
       "      <td>0.005136</td>\n",
       "      <td>7</td>\n",
       "      <td>0.648680</td>\n",
       "      <td>0.647384</td>\n",
       "      <td>0.644553</td>\n",
       "      <td>0.644934</td>\n",
       "      <td>0.646388</td>\n",
       "      <td>0.001712</td>\n",
       "    </tr>\n",
       "    <tr>\n",
       "      <th>1</th>\n",
       "      <td>0.059783</td>\n",
       "      <td>0.005461</td>\n",
       "      <td>0.001994</td>\n",
       "      <td>0.001994</td>\n",
       "      <td>2</td>\n",
       "      <td>{'max_depth': 2}</td>\n",
       "      <td>0.695134</td>\n",
       "      <td>0.699022</td>\n",
       "      <td>0.713376</td>\n",
       "      <td>0.699510</td>\n",
       "      <td>0.701761</td>\n",
       "      <td>0.006917</td>\n",
       "      <td>5</td>\n",
       "      <td>0.704034</td>\n",
       "      <td>0.702700</td>\n",
       "      <td>0.698113</td>\n",
       "      <td>0.702535</td>\n",
       "      <td>0.701845</td>\n",
       "      <td>0.002232</td>\n",
       "    </tr>\n",
       "    <tr>\n",
       "      <th>2</th>\n",
       "      <td>0.094741</td>\n",
       "      <td>0.001735</td>\n",
       "      <td>0.007811</td>\n",
       "      <td>0.007811</td>\n",
       "      <td>4</td>\n",
       "      <td>{'max_depth': 4}</td>\n",
       "      <td>0.732720</td>\n",
       "      <td>0.741078</td>\n",
       "      <td>0.746946</td>\n",
       "      <td>0.743731</td>\n",
       "      <td>0.741119</td>\n",
       "      <td>0.005276</td>\n",
       "      <td>2</td>\n",
       "      <td>0.756882</td>\n",
       "      <td>0.752421</td>\n",
       "      <td>0.749368</td>\n",
       "      <td>0.753055</td>\n",
       "      <td>0.752932</td>\n",
       "      <td>0.002673</td>\n",
       "    </tr>\n",
       "    <tr>\n",
       "      <th>3</th>\n",
       "      <td>0.143815</td>\n",
       "      <td>0.003460</td>\n",
       "      <td>0.000999</td>\n",
       "      <td>0.001730</td>\n",
       "      <td>6</td>\n",
       "      <td>{'max_depth': 6}</td>\n",
       "      <td>0.744480</td>\n",
       "      <td>0.745673</td>\n",
       "      <td>0.750853</td>\n",
       "      <td>0.741448</td>\n",
       "      <td>0.745614</td>\n",
       "      <td>0.003395</td>\n",
       "      <td>1</td>\n",
       "      <td>0.782202</td>\n",
       "      <td>0.780125</td>\n",
       "      <td>0.775228</td>\n",
       "      <td>0.774750</td>\n",
       "      <td>0.778076</td>\n",
       "      <td>0.003178</td>\n",
       "    </tr>\n",
       "    <tr>\n",
       "      <th>4</th>\n",
       "      <td>0.179649</td>\n",
       "      <td>0.007805</td>\n",
       "      <td>0.003906</td>\n",
       "      <td>0.006765</td>\n",
       "      <td>8</td>\n",
       "      <td>{'max_depth': 8}</td>\n",
       "      <td>0.727582</td>\n",
       "      <td>0.731350</td>\n",
       "      <td>0.752006</td>\n",
       "      <td>0.730802</td>\n",
       "      <td>0.735435</td>\n",
       "      <td>0.009675</td>\n",
       "      <td>3</td>\n",
       "      <td>0.811862</td>\n",
       "      <td>0.808353</td>\n",
       "      <td>0.803554</td>\n",
       "      <td>0.802431</td>\n",
       "      <td>0.806550</td>\n",
       "      <td>0.003788</td>\n",
       "    </tr>\n",
       "    <tr>\n",
       "      <th>5</th>\n",
       "      <td>0.218786</td>\n",
       "      <td>0.000174</td>\n",
       "      <td>0.003906</td>\n",
       "      <td>0.006766</td>\n",
       "      <td>10</td>\n",
       "      <td>{'max_depth': 10}</td>\n",
       "      <td>0.707582</td>\n",
       "      <td>0.703608</td>\n",
       "      <td>0.719963</td>\n",
       "      <td>0.714497</td>\n",
       "      <td>0.711413</td>\n",
       "      <td>0.006289</td>\n",
       "      <td>4</td>\n",
       "      <td>0.849815</td>\n",
       "      <td>0.854772</td>\n",
       "      <td>0.841046</td>\n",
       "      <td>0.836557</td>\n",
       "      <td>0.845548</td>\n",
       "      <td>0.007148</td>\n",
       "    </tr>\n",
       "    <tr>\n",
       "      <th>6</th>\n",
       "      <td>0.250755</td>\n",
       "      <td>0.000887</td>\n",
       "      <td>0.000000</td>\n",
       "      <td>0.000000</td>\n",
       "      <td>12</td>\n",
       "      <td>{'max_depth': 12}</td>\n",
       "      <td>0.672456</td>\n",
       "      <td>0.657138</td>\n",
       "      <td>0.676903</td>\n",
       "      <td>0.680969</td>\n",
       "      <td>0.671867</td>\n",
       "      <td>0.009021</td>\n",
       "      <td>6</td>\n",
       "      <td>0.888890</td>\n",
       "      <td>0.904080</td>\n",
       "      <td>0.885447</td>\n",
       "      <td>0.876138</td>\n",
       "      <td>0.888639</td>\n",
       "      <td>0.010062</td>\n",
       "    </tr>\n",
       "  </tbody>\n",
       "</table>\n",
       "</div>"
      ],
      "text/plain": [
       "   mean_fit_time  std_fit_time  mean_score_time  std_score_time  \\\n",
       "0       0.032133      0.012324         0.005518        0.006400   \n",
       "1       0.059783      0.005461         0.001994        0.001994   \n",
       "2       0.094741      0.001735         0.007811        0.007811   \n",
       "3       0.143815      0.003460         0.000999        0.001730   \n",
       "4       0.179649      0.007805         0.003906        0.006765   \n",
       "5       0.218786      0.000174         0.003906        0.006766   \n",
       "6       0.250755      0.000887         0.000000        0.000000   \n",
       "\n",
       "  param_max_depth             params  split0_test_score  split1_test_score  \\\n",
       "0               1   {'max_depth': 1}           0.639514           0.643398   \n",
       "1               2   {'max_depth': 2}           0.695134           0.699022   \n",
       "2               4   {'max_depth': 4}           0.732720           0.741078   \n",
       "3               6   {'max_depth': 6}           0.744480           0.745673   \n",
       "4               8   {'max_depth': 8}           0.727582           0.731350   \n",
       "5              10  {'max_depth': 10}           0.707582           0.703608   \n",
       "6              12  {'max_depth': 12}           0.672456           0.657138   \n",
       "\n",
       "   split2_test_score  split3_test_score  mean_test_score  std_test_score  \\\n",
       "0           0.651891           0.650753         0.646389        0.005136   \n",
       "1           0.713376           0.699510         0.701761        0.006917   \n",
       "2           0.746946           0.743731         0.741119        0.005276   \n",
       "3           0.750853           0.741448         0.745614        0.003395   \n",
       "4           0.752006           0.730802         0.735435        0.009675   \n",
       "5           0.719963           0.714497         0.711413        0.006289   \n",
       "6           0.676903           0.680969         0.671867        0.009021   \n",
       "\n",
       "   rank_test_score  split0_train_score  split1_train_score  \\\n",
       "0                7            0.648680            0.647384   \n",
       "1                5            0.704034            0.702700   \n",
       "2                2            0.756882            0.752421   \n",
       "3                1            0.782202            0.780125   \n",
       "4                3            0.811862            0.808353   \n",
       "5                4            0.849815            0.854772   \n",
       "6                6            0.888890            0.904080   \n",
       "\n",
       "   split2_train_score  split3_train_score  mean_train_score  std_train_score  \n",
       "0            0.644553            0.644934          0.646388         0.001712  \n",
       "1            0.698113            0.702535          0.701845         0.002232  \n",
       "2            0.749368            0.753055          0.752932         0.002673  \n",
       "3            0.775228            0.774750          0.778076         0.003178  \n",
       "4            0.803554            0.802431          0.806550         0.003788  \n",
       "5            0.841046            0.836557          0.845548         0.007148  \n",
       "6            0.885447            0.876138          0.888639         0.010062  "
      ]
     },
     "execution_count": 24,
     "metadata": {},
     "output_type": "execute_result"
    }
   ],
   "source": [
    "cv_results_df "
   ]
  },
  {
   "cell_type": "code",
   "execution_count": 25,
   "metadata": {},
   "outputs": [
    {
     "data": {
      "text/plain": [
       "Text(0, 0.5, 'ROC AUC')"
      ]
     },
     "execution_count": 25,
     "metadata": {},
     "output_type": "execute_result"
    },
    {
     "data": {
      "image/png": "[encoded data removed]",
      "text/plain": [
       "<Figure size 1200x800 with 1 Axes>"
      ]
     },
     "metadata": {
      "needs_background": "light"
     },
     "output_type": "display_data"
    }
   ],
   "source": [
    "ax = plt.axes()\n",
    "ax.errorbar(cv_results_df['param_max_depth'],\n",
    "cv_results_df['mean_train_score'],\n",
    "yerr=cv_results_df['std_train_score']/np.sqrt(4),\n",
    "label='Mean $\\pm$ 1 SE training scores')\n",
    "ax.errorbar(cv_results_df['param_max_depth'],\n",
    "cv_results_df['mean_test_score'],\n",
    "yerr=cv_results_df['std_test_score']/np.sqrt(4),\n",
    "label='Mean $\\pm$ 1 SE testing scores')\n",
    "ax.legend()\n",
    "plt.xlabel('max_depth')\n",
    "plt.ylabel('ROC AUC')"
   ]
  },
  {
   "cell_type": "markdown",
   "metadata": {},
   "source": [
    "### Habíamos obtenido un promedio de testeo  ROC AUC de  0.738  con regresion logistica.Con árbol de decisión obtenemos 0.746.  Hubo un mejoramiento en la performance."
   ]
  },
  {
   "cell_type": "markdown",
   "metadata": {},
   "source": [
    "## Random Forests"
   ]
  },
  {
   "cell_type": "markdown",
   "metadata": {},
   "source": [
    "En random Forest se combinan diferentes árboles para formar un modelo más potente. Veremos si podemos mejorar el score anterior."
   ]
  },
  {
   "cell_type": "code",
   "execution_count": 52,
   "metadata": {},
   "outputs": [],
   "source": [
    "from sklearn.ensemble import RandomForestClassifier"
   ]
  },
  {
   "cell_type": "code",
   "execution_count": 27,
   "metadata": {},
   "outputs": [],
   "source": [
    "rf = RandomForestClassifier(n_estimators=10,\\\n",
    "criterion='gini',\\\n",
    "max_depth=3,\\\n",
    "min_samples_split=2,\\\n",
    "min_samples_leaf=1,\\\n",
    "min_weight_fraction_leaf=0.0,\\\n",
    "max_features='auto',\\\n",
    "max_leaf_nodes=None,\\\n",
    "min_impurity_decrease=0.0,\\\n",
    "min_impurity_split=None,\\\n",
    "bootstrap=True,\\\n",
    "oob_score=False,\\\n",
    "n_jobs=None,\n",
    "random_state=4,\\\n",
    "verbose=0,\\\n",
    "warm_start=False,\\\n",
    "class_weight=None)"
   ]
  },
  {
   "cell_type": "markdown",
   "metadata": {},
   "source": [
    "#### Crearemos una grilla de valores para optimizar en el número de árboles a utilizar."
   ]
  },
  {
   "cell_type": "code",
   "execution_count": 28,
   "metadata": {},
   "outputs": [],
   "source": [
    "rf_params_ex = {'n_estimators':list(range(10,110,10))}"
   ]
  },
  {
   "cell_type": "code",
   "execution_count": 29,
   "metadata": {},
   "outputs": [
    {
     "data": {
      "text/plain": [
       "{'n_estimators': [10, 20, 30, 40, 50, 60, 70, 80, 90, 100]}"
      ]
     },
     "execution_count": 29,
     "metadata": {},
     "output_type": "execute_result"
    }
   ],
   "source": [
    "rf_params_ex"
   ]
  },
  {
   "cell_type": "markdown",
   "metadata": {},
   "source": [
    "#### Volvemos a usar GridSearchCV:"
   ]
  },
  {
   "cell_type": "code",
   "execution_count": 30,
   "metadata": {},
   "outputs": [],
   "source": [
    "cv_rf_ex = GridSearchCV(rf, param_grid=rf_params_ex,\n",
    "scoring='roc_auc', n_jobs=None,\n",
    "refit=True, cv=4, verbose=1,\n",
    "pre_dispatch=None, error_score=np.nan,\n",
    "return_train_score=True)"
   ]
  },
  {
   "cell_type": "code",
   "execution_count": 31,
   "metadata": {},
   "outputs": [
    {
     "name": "stdout",
     "output_type": "stream",
     "text": [
      "Fitting 4 folds for each of 10 candidates, totalling 40 fits\n"
     ]
    },
    {
     "name": "stderr",
     "output_type": "stream",
     "text": [
      "[Parallel(n_jobs=1)]: Using backend SequentialBackend with 1 concurrent workers.\n",
      "[Parallel(n_jobs=1)]: Done  40 out of  40 | elapsed:   36.6s finished\n"
     ]
    },
    {
     "data": {
      "text/plain": [
       "GridSearchCV(cv=4,\n",
       "             estimator=RandomForestClassifier(max_depth=3, n_estimators=10,\n",
       "                                              random_state=4),\n",
       "             param_grid={'n_estimators': [10, 20, 30, 40, 50, 60, 70, 80, 90,\n",
       "                                          100]},\n",
       "             pre_dispatch=None, return_train_score=True, scoring='roc_auc',\n",
       "             verbose=1)"
      ]
     },
     "execution_count": 31,
     "metadata": {},
     "output_type": "execute_result"
    }
   ],
   "source": [
    "cv_rf_ex.fit(X_train, y_train)"
   ]
  },
  {
   "cell_type": "markdown",
   "metadata": {},
   "source": [
    "Resultados"
   ]
  },
  {
   "cell_type": "code",
   "execution_count": 32,
   "metadata": {},
   "outputs": [],
   "source": [
    "cv_rf_ex_results_df = pd.DataFrame(cv_rf_ex.cv_results_)"
   ]
  },
  {
   "cell_type": "code",
   "execution_count": 33,
   "metadata": {},
   "outputs": [
    {
     "data": {
      "text/html": [
       "<div>\n",
       "<style scoped>\n",
       "    .dataframe tbody tr th:only-of-type {\n",
       "        vertical-align: middle;\n",
       "    }\n",
       "\n",
       "    .dataframe tbody tr th {\n",
       "        vertical-align: top;\n",
       "    }\n",
       "\n",
       "    .dataframe thead th {\n",
       "        text-align: right;\n",
       "    }\n",
       "</style>\n",
       "<table border=\"1\" class=\"dataframe\">\n",
       "  <thead>\n",
       "    <tr style=\"text-align: right;\">\n",
       "      <th></th>\n",
       "      <th>mean_fit_time</th>\n",
       "      <th>std_fit_time</th>\n",
       "      <th>mean_score_time</th>\n",
       "      <th>std_score_time</th>\n",
       "      <th>param_n_estimators</th>\n",
       "      <th>params</th>\n",
       "      <th>split0_test_score</th>\n",
       "      <th>split1_test_score</th>\n",
       "      <th>split2_test_score</th>\n",
       "      <th>split3_test_score</th>\n",
       "      <th>mean_test_score</th>\n",
       "      <th>std_test_score</th>\n",
       "      <th>rank_test_score</th>\n",
       "      <th>split0_train_score</th>\n",
       "      <th>split1_train_score</th>\n",
       "      <th>split2_train_score</th>\n",
       "      <th>split3_train_score</th>\n",
       "      <th>mean_train_score</th>\n",
       "      <th>std_train_score</th>\n",
       "    </tr>\n",
       "  </thead>\n",
       "  <tbody>\n",
       "    <tr>\n",
       "      <th>0</th>\n",
       "      <td>0.145891</td>\n",
       "      <td>0.006097</td>\n",
       "      <td>0.011724</td>\n",
       "      <td>0.006769</td>\n",
       "      <td>10</td>\n",
       "      <td>{'n_estimators': 10}</td>\n",
       "      <td>0.737907</td>\n",
       "      <td>0.750682</td>\n",
       "      <td>0.768476</td>\n",
       "      <td>0.767800</td>\n",
       "      <td>0.756216</td>\n",
       "      <td>0.012751</td>\n",
       "      <td>10</td>\n",
       "      <td>0.767037</td>\n",
       "      <td>0.764563</td>\n",
       "      <td>0.758841</td>\n",
       "      <td>0.763674</td>\n",
       "      <td>0.763529</td>\n",
       "      <td>0.002974</td>\n",
       "    </tr>\n",
       "    <tr>\n",
       "      <th>1</th>\n",
       "      <td>0.286096</td>\n",
       "      <td>0.016785</td>\n",
       "      <td>0.015623</td>\n",
       "      <td>0.000001</td>\n",
       "      <td>20</td>\n",
       "      <td>{'n_estimators': 20}</td>\n",
       "      <td>0.742705</td>\n",
       "      <td>0.755361</td>\n",
       "      <td>0.774591</td>\n",
       "      <td>0.770942</td>\n",
       "      <td>0.760900</td>\n",
       "      <td>0.012748</td>\n",
       "      <td>5</td>\n",
       "      <td>0.771544</td>\n",
       "      <td>0.771216</td>\n",
       "      <td>0.764458</td>\n",
       "      <td>0.766441</td>\n",
       "      <td>0.768415</td>\n",
       "      <td>0.003049</td>\n",
       "    </tr>\n",
       "    <tr>\n",
       "      <th>2</th>\n",
       "      <td>0.416828</td>\n",
       "      <td>0.009487</td>\n",
       "      <td>0.019535</td>\n",
       "      <td>0.006759</td>\n",
       "      <td>30</td>\n",
       "      <td>{'n_estimators': 30}</td>\n",
       "      <td>0.741780</td>\n",
       "      <td>0.755140</td>\n",
       "      <td>0.775282</td>\n",
       "      <td>0.769325</td>\n",
       "      <td>0.760382</td>\n",
       "      <td>0.012995</td>\n",
       "      <td>7</td>\n",
       "      <td>0.770703</td>\n",
       "      <td>0.771949</td>\n",
       "      <td>0.763771</td>\n",
       "      <td>0.765974</td>\n",
       "      <td>0.768099</td>\n",
       "      <td>0.003349</td>\n",
       "    </tr>\n",
       "    <tr>\n",
       "      <th>3</th>\n",
       "      <td>0.557835</td>\n",
       "      <td>0.020171</td>\n",
       "      <td>0.019518</td>\n",
       "      <td>0.006747</td>\n",
       "      <td>40</td>\n",
       "      <td>{'n_estimators': 40}</td>\n",
       "      <td>0.741560</td>\n",
       "      <td>0.753102</td>\n",
       "      <td>0.774940</td>\n",
       "      <td>0.769106</td>\n",
       "      <td>0.759677</td>\n",
       "      <td>0.013165</td>\n",
       "      <td>9</td>\n",
       "      <td>0.769863</td>\n",
       "      <td>0.770920</td>\n",
       "      <td>0.763447</td>\n",
       "      <td>0.764242</td>\n",
       "      <td>0.767118</td>\n",
       "      <td>0.003307</td>\n",
       "    </tr>\n",
       "    <tr>\n",
       "      <th>4</th>\n",
       "      <td>0.692674</td>\n",
       "      <td>0.006160</td>\n",
       "      <td>0.027336</td>\n",
       "      <td>0.006764</td>\n",
       "      <td>50</td>\n",
       "      <td>{'n_estimators': 50}</td>\n",
       "      <td>0.743724</td>\n",
       "      <td>0.753654</td>\n",
       "      <td>0.775148</td>\n",
       "      <td>0.768949</td>\n",
       "      <td>0.760369</td>\n",
       "      <td>0.012391</td>\n",
       "      <td>8</td>\n",
       "      <td>0.771213</td>\n",
       "      <td>0.771930</td>\n",
       "      <td>0.763567</td>\n",
       "      <td>0.765230</td>\n",
       "      <td>0.767985</td>\n",
       "      <td>0.003643</td>\n",
       "    </tr>\n",
       "    <tr>\n",
       "      <th>5</th>\n",
       "      <td>0.821514</td>\n",
       "      <td>0.006998</td>\n",
       "      <td>0.034120</td>\n",
       "      <td>0.004376</td>\n",
       "      <td>60</td>\n",
       "      <td>{'n_estimators': 60}</td>\n",
       "      <td>0.744554</td>\n",
       "      <td>0.753591</td>\n",
       "      <td>0.776005</td>\n",
       "      <td>0.769307</td>\n",
       "      <td>0.760864</td>\n",
       "      <td>0.012444</td>\n",
       "      <td>6</td>\n",
       "      <td>0.771868</td>\n",
       "      <td>0.773528</td>\n",
       "      <td>0.764194</td>\n",
       "      <td>0.765720</td>\n",
       "      <td>0.768828</td>\n",
       "      <td>0.003952</td>\n",
       "    </tr>\n",
       "    <tr>\n",
       "      <th>6</th>\n",
       "      <td>1.026253</td>\n",
       "      <td>0.065704</td>\n",
       "      <td>0.042312</td>\n",
       "      <td>0.006918</td>\n",
       "      <td>70</td>\n",
       "      <td>{'n_estimators': 70}</td>\n",
       "      <td>0.745812</td>\n",
       "      <td>0.753161</td>\n",
       "      <td>0.777280</td>\n",
       "      <td>0.770440</td>\n",
       "      <td>0.761673</td>\n",
       "      <td>0.012693</td>\n",
       "      <td>4</td>\n",
       "      <td>0.772926</td>\n",
       "      <td>0.774367</td>\n",
       "      <td>0.764597</td>\n",
       "      <td>0.766738</td>\n",
       "      <td>0.769657</td>\n",
       "      <td>0.004092</td>\n",
       "    </tr>\n",
       "    <tr>\n",
       "      <th>7</th>\n",
       "      <td>1.190167</td>\n",
       "      <td>0.071190</td>\n",
       "      <td>0.057431</td>\n",
       "      <td>0.028034</td>\n",
       "      <td>80</td>\n",
       "      <td>{'n_estimators': 80}</td>\n",
       "      <td>0.746222</td>\n",
       "      <td>0.752732</td>\n",
       "      <td>0.777407</td>\n",
       "      <td>0.770749</td>\n",
       "      <td>0.761777</td>\n",
       "      <td>0.012734</td>\n",
       "      <td>3</td>\n",
       "      <td>0.773315</td>\n",
       "      <td>0.773995</td>\n",
       "      <td>0.764558</td>\n",
       "      <td>0.766878</td>\n",
       "      <td>0.769687</td>\n",
       "      <td>0.004059</td>\n",
       "    </tr>\n",
       "    <tr>\n",
       "      <th>8</th>\n",
       "      <td>1.334153</td>\n",
       "      <td>0.153134</td>\n",
       "      <td>0.048870</td>\n",
       "      <td>0.003455</td>\n",
       "      <td>90</td>\n",
       "      <td>{'n_estimators': 90}</td>\n",
       "      <td>0.746364</td>\n",
       "      <td>0.753299</td>\n",
       "      <td>0.777709</td>\n",
       "      <td>0.771849</td>\n",
       "      <td>0.762305</td>\n",
       "      <td>0.012880</td>\n",
       "      <td>2</td>\n",
       "      <td>0.773617</td>\n",
       "      <td>0.774262</td>\n",
       "      <td>0.765170</td>\n",
       "      <td>0.766970</td>\n",
       "      <td>0.770005</td>\n",
       "      <td>0.003993</td>\n",
       "    </tr>\n",
       "    <tr>\n",
       "      <th>9</th>\n",
       "      <td>1.575425</td>\n",
       "      <td>0.117163</td>\n",
       "      <td>0.055620</td>\n",
       "      <td>0.011257</td>\n",
       "      <td>100</td>\n",
       "      <td>{'n_estimators': 100}</td>\n",
       "      <td>0.746659</td>\n",
       "      <td>0.752874</td>\n",
       "      <td>0.777776</td>\n",
       "      <td>0.772036</td>\n",
       "      <td>0.762336</td>\n",
       "      <td>0.012921</td>\n",
       "      <td>1</td>\n",
       "      <td>0.773984</td>\n",
       "      <td>0.774208</td>\n",
       "      <td>0.765233</td>\n",
       "      <td>0.767023</td>\n",
       "      <td>0.770112</td>\n",
       "      <td>0.004035</td>\n",
       "    </tr>\n",
       "  </tbody>\n",
       "</table>\n",
       "</div>"
      ],
      "text/plain": [
       "   mean_fit_time  std_fit_time  mean_score_time  std_score_time  \\\n",
       "0       0.145891      0.006097         0.011724        0.006769   \n",
       "1       0.286096      0.016785         0.015623        0.000001   \n",
       "2       0.416828      0.009487         0.019535        0.006759   \n",
       "3       0.557835      0.020171         0.019518        0.006747   \n",
       "4       0.692674      0.006160         0.027336        0.006764   \n",
       "5       0.821514      0.006998         0.034120        0.004376   \n",
       "6       1.026253      0.065704         0.042312        0.006918   \n",
       "7       1.190167      0.071190         0.057431        0.028034   \n",
       "8       1.334153      0.153134         0.048870        0.003455   \n",
       "9       1.575425      0.117163         0.055620        0.011257   \n",
       "\n",
       "  param_n_estimators                 params  split0_test_score  \\\n",
       "0                 10   {'n_estimators': 10}           0.737907   \n",
       "1                 20   {'n_estimators': 20}           0.742705   \n",
       "2                 30   {'n_estimators': 30}           0.741780   \n",
       "3                 40   {'n_estimators': 40}           0.741560   \n",
       "4                 50   {'n_estimators': 50}           0.743724   \n",
       "5                 60   {'n_estimators': 60}           0.744554   \n",
       "6                 70   {'n_estimators': 70}           0.745812   \n",
       "7                 80   {'n_estimators': 80}           0.746222   \n",
       "8                 90   {'n_estimators': 90}           0.746364   \n",
       "9                100  {'n_estimators': 100}           0.746659   \n",
       "\n",
       "   split1_test_score  split2_test_score  split3_test_score  mean_test_score  \\\n",
       "0           0.750682           0.768476           0.767800         0.756216   \n",
       "1           0.755361           0.774591           0.770942         0.760900   \n",
       "2           0.755140           0.775282           0.769325         0.760382   \n",
       "3           0.753102           0.774940           0.769106         0.759677   \n",
       "4           0.753654           0.775148           0.768949         0.760369   \n",
       "5           0.753591           0.776005           0.769307         0.760864   \n",
       "6           0.753161           0.777280           0.770440         0.761673   \n",
       "7           0.752732           0.777407           0.770749         0.761777   \n",
       "8           0.753299           0.777709           0.771849         0.762305   \n",
       "9           0.752874           0.777776           0.772036         0.762336   \n",
       "\n",
       "   std_test_score  rank_test_score  split0_train_score  split1_train_score  \\\n",
       "0        0.012751               10            0.767037            0.764563   \n",
       "1        0.012748                5            0.771544            0.771216   \n",
       "2        0.012995                7            0.770703            0.771949   \n",
       "3        0.013165                9            0.769863            0.770920   \n",
       "4        0.012391                8            0.771213            0.771930   \n",
       "5        0.012444                6            0.771868            0.773528   \n",
       "6        0.012693                4            0.772926            0.774367   \n",
       "7        0.012734                3            0.773315            0.773995   \n",
       "8        0.012880                2            0.773617            0.774262   \n",
       "9        0.012921                1            0.773984            0.774208   \n",
       "\n",
       "   split2_train_score  split3_train_score  mean_train_score  std_train_score  \n",
       "0            0.758841            0.763674          0.763529         0.002974  \n",
       "1            0.764458            0.766441          0.768415         0.003049  \n",
       "2            0.763771            0.765974          0.768099         0.003349  \n",
       "3            0.763447            0.764242          0.767118         0.003307  \n",
       "4            0.763567            0.765230          0.767985         0.003643  \n",
       "5            0.764194            0.765720          0.768828         0.003952  \n",
       "6            0.764597            0.766738          0.769657         0.004092  \n",
       "7            0.764558            0.766878          0.769687         0.004059  \n",
       "8            0.765170            0.766970          0.770005         0.003993  \n",
       "9            0.765233            0.767023          0.770112         0.004035  "
      ]
     },
     "execution_count": 33,
     "metadata": {},
     "output_type": "execute_result"
    }
   ],
   "source": [
    "cv_rf_ex_results_df"
   ]
  },
  {
   "cell_type": "code",
   "execution_count": 34,
   "metadata": {},
   "outputs": [
    {
     "data": {
      "image/png": "[encoded data removed]",
      "text/plain": [
       "<Figure size 1200x600 with 2 Axes>"
      ]
     },
     "metadata": {
      "needs_background": "light"
     },
     "output_type": "display_data"
    }
   ],
   "source": [
    "fig, axs = plt.subplots(nrows=1, ncols=2, figsize=(6, 3))\n",
    "axs[0].plot(cv_rf_ex_results_df['param_n_estimators'],\n",
    "cv_rf_ex_results_df['mean_fit_time'],\n",
    "'-o')\n",
    "axs[0].set_xlabel('Number of trees')\n",
    "axs[0].set_ylabel('Mean fit time (seconds)')\n",
    "axs[1].errorbar(cv_rf_ex_results_df['param_n_estimators'],\n",
    "cv_rf_ex_results_df['mean_test_score'],\n",
    "yerr=cv_rf_ex_results_df['std_test_score']/np.sqrt(4))\n",
    "axs[1].set_xlabel('Number of trees')\n",
    "axs[1].set_ylabel('Mean testing ROC AUC $\\pm$ 1 SE ')\n",
    "plt.tight_layout()"
   ]
  },
  {
   "cell_type": "markdown",
   "metadata": {},
   "source": [
    "El mejor parámetro y el mejor score:"
   ]
  },
  {
   "cell_type": "code",
   "execution_count": 35,
   "metadata": {},
   "outputs": [
    {
     "data": {
      "text/plain": [
       "{'n_estimators': 100}"
      ]
     },
     "execution_count": 35,
     "metadata": {},
     "output_type": "execute_result"
    }
   ],
   "source": [
    "cv_rf_ex.best_params_"
   ]
  },
  {
   "cell_type": "code",
   "execution_count": 37,
   "metadata": {},
   "outputs": [
    {
     "data": {
      "text/plain": [
       "0.7623364684736227"
      ]
     },
     "execution_count": 37,
     "metadata": {},
     "output_type": "execute_result"
    }
   ],
   "source": [
    "cv_rf_ex_results_df['mean_test_score'].max()"
   ]
  },
  {
   "cell_type": "markdown",
   "metadata": {},
   "source": [
    "### Da un score de 0.762. El score anterior con árbol de decisión simple fue de 0.746"
   ]
  },
  {
   "cell_type": "markdown",
   "metadata": {},
   "source": [
    "#### Crearemos un dataframe con las variables más importantes o decisorias según el mejor modelo"
   ]
  },
  {
   "cell_type": "code",
   "execution_count": 38,
   "metadata": {},
   "outputs": [
    {
     "data": {
      "text/plain": [
       "<AxesSubplot:>"
      ]
     },
     "execution_count": 38,
     "metadata": {},
     "output_type": "execute_result"
    },
    {
     "data": {
      "image/png": "[encoded data removed]",
      "text/plain": [
       "<Figure size 1200x800 with 1 Axes>"
      ]
     },
     "metadata": {
      "needs_background": "light"
     },
     "output_type": "display_data"
    }
   ],
   "source": [
    "feat_imp_df = pd.DataFrame({\n",
    "'Importance':cv_rf_ex.best_estimator_.feature_importances_\n",
    "},\n",
    "index=features_response[:-1])\n",
    "feat_imp_df.sort_values('Importance', ascending=True).plot.barh()"
   ]
  },
  {
   "cell_type": "markdown",
   "metadata": {},
   "source": [
    "El análisis de importancia de features coincide en líneas generales con el análisis de F-test que hicimos para Regresión Logística, sólo que  difiere en el segundo lugar de importancia que aquí es PAY_AMT1. En el caso de Regresión Logística fue LIMIT_BAl que aquí está en tercer lugar de importancia, aunque la diferencia numérica no es muy significativa"
   ]
  },
  {
   "cell_type": "code",
   "execution_count": 39,
   "metadata": {},
   "outputs": [
    {
     "data": {
      "text/html": [
       "<div>\n",
       "<style scoped>\n",
       "    .dataframe tbody tr th:only-of-type {\n",
       "        vertical-align: middle;\n",
       "    }\n",
       "\n",
       "    .dataframe tbody tr th {\n",
       "        vertical-align: top;\n",
       "    }\n",
       "\n",
       "    .dataframe thead th {\n",
       "        text-align: right;\n",
       "    }\n",
       "</style>\n",
       "<table border=\"1\" class=\"dataframe\">\n",
       "  <thead>\n",
       "    <tr style=\"text-align: right;\">\n",
       "      <th></th>\n",
       "      <th>Importance</th>\n",
       "    </tr>\n",
       "  </thead>\n",
       "  <tbody>\n",
       "    <tr>\n",
       "      <th>LIMIT_BAL</th>\n",
       "      <td>0.080898</td>\n",
       "    </tr>\n",
       "    <tr>\n",
       "      <th>SEX</th>\n",
       "      <td>0.000083</td>\n",
       "    </tr>\n",
       "    <tr>\n",
       "      <th>EDUCATION</th>\n",
       "      <td>0.000911</td>\n",
       "    </tr>\n",
       "    <tr>\n",
       "      <th>MARRIAGE</th>\n",
       "      <td>0.000336</td>\n",
       "    </tr>\n",
       "    <tr>\n",
       "      <th>AGE</th>\n",
       "      <td>0.002696</td>\n",
       "    </tr>\n",
       "    <tr>\n",
       "      <th>PAY_1</th>\n",
       "      <td>0.532504</td>\n",
       "    </tr>\n",
       "    <tr>\n",
       "      <th>BILL_AMT1</th>\n",
       "      <td>0.009799</td>\n",
       "    </tr>\n",
       "    <tr>\n",
       "      <th>BILL_AMT2</th>\n",
       "      <td>0.014429</td>\n",
       "    </tr>\n",
       "    <tr>\n",
       "      <th>BILL_AMT3</th>\n",
       "      <td>0.010192</td>\n",
       "    </tr>\n",
       "    <tr>\n",
       "      <th>BILL_AMT4</th>\n",
       "      <td>0.021700</td>\n",
       "    </tr>\n",
       "    <tr>\n",
       "      <th>BILL_AMT5</th>\n",
       "      <td>0.014334</td>\n",
       "    </tr>\n",
       "    <tr>\n",
       "      <th>BILL_AMT6</th>\n",
       "      <td>0.011586</td>\n",
       "    </tr>\n",
       "    <tr>\n",
       "      <th>PAY_AMT1</th>\n",
       "      <td>0.090596</td>\n",
       "    </tr>\n",
       "    <tr>\n",
       "      <th>PAY_AMT2</th>\n",
       "      <td>0.073898</td>\n",
       "    </tr>\n",
       "    <tr>\n",
       "      <th>PAY_AMT3</th>\n",
       "      <td>0.063582</td>\n",
       "    </tr>\n",
       "    <tr>\n",
       "      <th>PAY_AMT4</th>\n",
       "      <td>0.035069</td>\n",
       "    </tr>\n",
       "    <tr>\n",
       "      <th>PAY_AMT5</th>\n",
       "      <td>0.015558</td>\n",
       "    </tr>\n",
       "    <tr>\n",
       "      <th>PAY_AMT6</th>\n",
       "      <td>0.021830</td>\n",
       "    </tr>\n",
       "  </tbody>\n",
       "</table>\n",
       "</div>"
      ],
      "text/plain": [
       "           Importance\n",
       "LIMIT_BAL    0.080898\n",
       "SEX          0.000083\n",
       "EDUCATION    0.000911\n",
       "MARRIAGE     0.000336\n",
       "AGE          0.002696\n",
       "PAY_1        0.532504\n",
       "BILL_AMT1    0.009799\n",
       "BILL_AMT2    0.014429\n",
       "BILL_AMT3    0.010192\n",
       "BILL_AMT4    0.021700\n",
       "BILL_AMT5    0.014334\n",
       "BILL_AMT6    0.011586\n",
       "PAY_AMT1     0.090596\n",
       "PAY_AMT2     0.073898\n",
       "PAY_AMT3     0.063582\n",
       "PAY_AMT4     0.035069\n",
       "PAY_AMT5     0.015558\n",
       "PAY_AMT6     0.021830"
      ]
     },
     "execution_count": 39,
     "metadata": {},
     "output_type": "execute_result"
    }
   ],
   "source": [
    "feat_imp_df"
   ]
  },
  {
   "cell_type": "markdown",
   "metadata": {},
   "source": [
    "### Ahora repetiremos el proceso pero optimizando también sobre el hiperparámetro max_depth, es decir, la profundidad de cada árbol."
   ]
  },
  {
   "cell_type": "code",
   "execution_count": 53,
   "metadata": {},
   "outputs": [],
   "source": [
    "param_list={'n_estimators':[10,50,100,200],'max_depth':list(range(3,15,3))}"
   ]
  },
  {
   "cell_type": "code",
   "execution_count": 54,
   "metadata": {},
   "outputs": [],
   "source": [
    "CV_rf= GridSearchCV( rf,param_grid=param_list, scoring='roc_auc',n_jobs=None,refit=True,cv=4,verbose=2,\n",
    "                    pre_dispatch=None,error_score=np.nan,return_train_score=True)"
   ]
  },
  {
   "cell_type": "code",
   "execution_count": 55,
   "metadata": {},
   "outputs": [
    {
     "name": "stdout",
     "output_type": "stream",
     "text": [
      "Fitting 4 folds for each of 16 candidates, totalling 64 fits\n",
      "[CV] max_depth=3, n_estimators=10 ....................................\n",
      "[CV] ..................... max_depth=3, n_estimators=10, total=   0.2s\n",
      "[CV] max_depth=3, n_estimators=10 ....................................\n"
     ]
    },
    {
     "name": "stderr",
     "output_type": "stream",
     "text": [
      "[Parallel(n_jobs=1)]: Using backend SequentialBackend with 1 concurrent workers.\n",
      "[Parallel(n_jobs=1)]: Done   1 out of   1 | elapsed:    0.1s remaining:    0.0s\n"
     ]
    },
    {
     "name": "stdout",
     "output_type": "stream",
     "text": [
      "[CV] ..................... max_depth=3, n_estimators=10, total=   0.2s\n",
      "[CV] max_depth=3, n_estimators=10 ....................................\n",
      "[CV] ..................... max_depth=3, n_estimators=10, total=   0.1s\n",
      "[CV] max_depth=3, n_estimators=10 ....................................\n",
      "[CV] ..................... max_depth=3, n_estimators=10, total=   0.2s\n",
      "[CV] max_depth=3, n_estimators=50 ....................................\n",
      "[CV] ..................... max_depth=3, n_estimators=50, total=   0.7s\n",
      "[CV] max_depth=3, n_estimators=50 ....................................\n",
      "[CV] ..................... max_depth=3, n_estimators=50, total=   0.8s\n",
      "[CV] max_depth=3, n_estimators=50 ....................................\n",
      "[CV] ..................... max_depth=3, n_estimators=50, total=   0.7s\n",
      "[CV] max_depth=3, n_estimators=50 ....................................\n",
      "[CV] ..................... max_depth=3, n_estimators=50, total=   0.7s\n",
      "[CV] max_depth=3, n_estimators=100 ...................................\n",
      "[CV] .................... max_depth=3, n_estimators=100, total=   1.4s\n",
      "[CV] max_depth=3, n_estimators=100 ...................................\n",
      "[CV] .................... max_depth=3, n_estimators=100, total=   1.5s\n",
      "[CV] max_depth=3, n_estimators=100 ...................................\n",
      "[CV] .................... max_depth=3, n_estimators=100, total=   1.4s\n",
      "[CV] max_depth=3, n_estimators=100 ...................................\n",
      "[CV] .................... max_depth=3, n_estimators=100, total=   1.5s\n",
      "[CV] max_depth=3, n_estimators=200 ...................................\n",
      "[CV] .................... max_depth=3, n_estimators=200, total=   2.9s\n",
      "[CV] max_depth=3, n_estimators=200 ...................................\n",
      "[CV] .................... max_depth=3, n_estimators=200, total=   3.0s\n",
      "[CV] max_depth=3, n_estimators=200 ...................................\n",
      "[CV] .................... max_depth=3, n_estimators=200, total=   2.8s\n",
      "[CV] max_depth=3, n_estimators=200 ...................................\n",
      "[CV] .................... max_depth=3, n_estimators=200, total=   2.9s\n",
      "[CV] max_depth=6, n_estimators=10 ....................................\n",
      "[CV] ..................... max_depth=6, n_estimators=10, total=   0.3s\n",
      "[CV] max_depth=6, n_estimators=10 ....................................\n",
      "[CV] ..................... max_depth=6, n_estimators=10, total=   0.2s\n",
      "[CV] max_depth=6, n_estimators=10 ....................................\n",
      "[CV] ..................... max_depth=6, n_estimators=10, total=   0.2s\n",
      "[CV] max_depth=6, n_estimators=10 ....................................\n",
      "[CV] ..................... max_depth=6, n_estimators=10, total=   0.3s\n",
      "[CV] max_depth=6, n_estimators=50 ....................................\n",
      "[CV] ..................... max_depth=6, n_estimators=50, total=   1.2s\n",
      "[CV] max_depth=6, n_estimators=50 ....................................\n",
      "[CV] ..................... max_depth=6, n_estimators=50, total=   1.2s\n",
      "[CV] max_depth=6, n_estimators=50 ....................................\n",
      "[CV] ..................... max_depth=6, n_estimators=50, total=   1.2s\n",
      "[CV] max_depth=6, n_estimators=50 ....................................\n",
      "[CV] ..................... max_depth=6, n_estimators=50, total=   1.2s\n",
      "[CV] max_depth=6, n_estimators=100 ...................................\n",
      "[CV] .................... max_depth=6, n_estimators=100, total=   2.4s\n",
      "[CV] max_depth=6, n_estimators=100 ...................................\n",
      "[CV] .................... max_depth=6, n_estimators=100, total=   2.4s\n",
      "[CV] max_depth=6, n_estimators=100 ...................................\n",
      "[CV] .................... max_depth=6, n_estimators=100, total=   2.4s\n",
      "[CV] max_depth=6, n_estimators=100 ...................................\n",
      "[CV] .................... max_depth=6, n_estimators=100, total=   2.4s\n",
      "[CV] max_depth=6, n_estimators=200 ...................................\n",
      "[CV] .................... max_depth=6, n_estimators=200, total=   5.1s\n",
      "[CV] max_depth=6, n_estimators=200 ...................................\n",
      "[CV] .................... max_depth=6, n_estimators=200, total=   5.1s\n",
      "[CV] max_depth=6, n_estimators=200 ...................................\n",
      "[CV] .................... max_depth=6, n_estimators=200, total=   4.7s\n",
      "[CV] max_depth=6, n_estimators=200 ...................................\n",
      "[CV] .................... max_depth=6, n_estimators=200, total=   4.7s\n",
      "[CV] max_depth=9, n_estimators=10 ....................................\n",
      "[CV] ..................... max_depth=9, n_estimators=10, total=   0.4s\n",
      "[CV] max_depth=9, n_estimators=10 ....................................\n",
      "[CV] ..................... max_depth=9, n_estimators=10, total=   0.3s\n",
      "[CV] max_depth=9, n_estimators=10 ....................................\n",
      "[CV] ..................... max_depth=9, n_estimators=10, total=   0.3s\n",
      "[CV] max_depth=9, n_estimators=10 ....................................\n",
      "[CV] ..................... max_depth=9, n_estimators=10, total=   0.3s\n",
      "[CV] max_depth=9, n_estimators=50 ....................................\n",
      "[CV] ..................... max_depth=9, n_estimators=50, total=   1.7s\n",
      "[CV] max_depth=9, n_estimators=50 ....................................\n",
      "[CV] ..................... max_depth=9, n_estimators=50, total=   1.8s\n",
      "[CV] max_depth=9, n_estimators=50 ....................................\n",
      "[CV] ..................... max_depth=9, n_estimators=50, total=   1.8s\n",
      "[CV] max_depth=9, n_estimators=50 ....................................\n",
      "[CV] ..................... max_depth=9, n_estimators=50, total=   1.7s\n",
      "[CV] max_depth=9, n_estimators=100 ...................................\n",
      "[CV] .................... max_depth=9, n_estimators=100, total=   3.3s\n",
      "[CV] max_depth=9, n_estimators=100 ...................................\n",
      "[CV] .................... max_depth=9, n_estimators=100, total=   3.7s\n",
      "[CV] max_depth=9, n_estimators=100 ...................................\n",
      "[CV] .................... max_depth=9, n_estimators=100, total=   3.4s\n",
      "[CV] max_depth=9, n_estimators=100 ...................................\n",
      "[CV] .................... max_depth=9, n_estimators=100, total=   3.4s\n",
      "[CV] max_depth=9, n_estimators=200 ...................................\n",
      "[CV] .................... max_depth=9, n_estimators=200, total=   6.8s\n",
      "[CV] max_depth=9, n_estimators=200 ...................................\n",
      "[CV] .................... max_depth=9, n_estimators=200, total=   6.6s\n",
      "[CV] max_depth=9, n_estimators=200 ...................................\n",
      "[CV] .................... max_depth=9, n_estimators=200, total=   6.5s\n",
      "[CV] max_depth=9, n_estimators=200 ...................................\n",
      "[CV] .................... max_depth=9, n_estimators=200, total=   6.5s\n",
      "[CV] max_depth=12, n_estimators=10 ...................................\n",
      "[CV] .................... max_depth=12, n_estimators=10, total=   0.4s\n",
      "[CV] max_depth=12, n_estimators=10 ...................................\n",
      "[CV] .................... max_depth=12, n_estimators=10, total=   0.4s\n",
      "[CV] max_depth=12, n_estimators=10 ...................................\n",
      "[CV] .................... max_depth=12, n_estimators=10, total=   0.4s\n",
      "[CV] max_depth=12, n_estimators=10 ...................................\n",
      "[CV] .................... max_depth=12, n_estimators=10, total=   0.4s\n",
      "[CV] max_depth=12, n_estimators=50 ...................................\n",
      "[CV] .................... max_depth=12, n_estimators=50, total=   2.2s\n",
      "[CV] max_depth=12, n_estimators=50 ...................................\n",
      "[CV] .................... max_depth=12, n_estimators=50, total=   2.1s\n",
      "[CV] max_depth=12, n_estimators=50 ...................................\n",
      "[CV] .................... max_depth=12, n_estimators=50, total=   2.1s\n",
      "[CV] max_depth=12, n_estimators=50 ...................................\n",
      "[CV] .................... max_depth=12, n_estimators=50, total=   2.2s\n",
      "[CV] max_depth=12, n_estimators=100 ..................................\n",
      "[CV] ................... max_depth=12, n_estimators=100, total=   4.3s\n",
      "[CV] max_depth=12, n_estimators=100 ..................................\n",
      "[CV] ................... max_depth=12, n_estimators=100, total=   4.5s\n",
      "[CV] max_depth=12, n_estimators=100 ..................................\n",
      "[CV] ................... max_depth=12, n_estimators=100, total=   4.0s\n",
      "[CV] max_depth=12, n_estimators=100 ..................................\n"
     ]
    },
    {
     "name": "stdout",
     "output_type": "stream",
     "text": [
      "[CV] ................... max_depth=12, n_estimators=100, total=   4.1s\n",
      "[CV] max_depth=12, n_estimators=200 ..................................\n",
      "[CV] ................... max_depth=12, n_estimators=200, total=   8.3s\n",
      "[CV] max_depth=12, n_estimators=200 ..................................\n",
      "[CV] ................... max_depth=12, n_estimators=200, total=   8.9s\n",
      "[CV] max_depth=12, n_estimators=200 ..................................\n",
      "[CV] ................... max_depth=12, n_estimators=200, total=   8.8s\n",
      "[CV] max_depth=12, n_estimators=200 ..................................\n",
      "[CV] ................... max_depth=12, n_estimators=200, total=   8.1s\n"
     ]
    },
    {
     "name": "stderr",
     "output_type": "stream",
     "text": [
      "[Parallel(n_jobs=1)]: Done  64 out of  64 | elapsed:  3.0min finished\n"
     ]
    },
    {
     "data": {
      "text/plain": [
       "GridSearchCV(cv=4,\n",
       "             estimator=RandomForestClassifier(max_depth=3, n_estimators=10,\n",
       "                                              random_state=4),\n",
       "             param_grid={'max_depth': [3, 6, 9, 12],\n",
       "                         'n_estimators': [10, 50, 100, 200]},\n",
       "             pre_dispatch=None, return_train_score=True, scoring='roc_auc',\n",
       "             verbose=2)"
      ]
     },
     "execution_count": 55,
     "metadata": {},
     "output_type": "execute_result"
    }
   ],
   "source": [
    "CV_rf.fit(X_train,y_train)"
   ]
  },
  {
   "cell_type": "markdown",
   "metadata": {},
   "source": [
    "resultados"
   ]
  },
  {
   "cell_type": "code",
   "execution_count": 56,
   "metadata": {},
   "outputs": [],
   "source": [
    "CV_rf_results=pd.DataFrame(CV_rf.cv_results_)"
   ]
  },
  {
   "cell_type": "code",
   "execution_count": 57,
   "metadata": {},
   "outputs": [
    {
     "data": {
      "text/html": [
       "<div>\n",
       "<style scoped>\n",
       "    .dataframe tbody tr th:only-of-type {\n",
       "        vertical-align: middle;\n",
       "    }\n",
       "\n",
       "    .dataframe tbody tr th {\n",
       "        vertical-align: top;\n",
       "    }\n",
       "\n",
       "    .dataframe thead th {\n",
       "        text-align: right;\n",
       "    }\n",
       "</style>\n",
       "<table border=\"1\" class=\"dataframe\">\n",
       "  <thead>\n",
       "    <tr style=\"text-align: right;\">\n",
       "      <th></th>\n",
       "      <th>mean_fit_time</th>\n",
       "      <th>std_fit_time</th>\n",
       "      <th>mean_score_time</th>\n",
       "      <th>std_score_time</th>\n",
       "      <th>param_max_depth</th>\n",
       "      <th>param_n_estimators</th>\n",
       "      <th>params</th>\n",
       "      <th>split0_test_score</th>\n",
       "      <th>split1_test_score</th>\n",
       "      <th>split2_test_score</th>\n",
       "      <th>split3_test_score</th>\n",
       "      <th>mean_test_score</th>\n",
       "      <th>std_test_score</th>\n",
       "      <th>rank_test_score</th>\n",
       "      <th>split0_train_score</th>\n",
       "      <th>split1_train_score</th>\n",
       "      <th>split2_train_score</th>\n",
       "      <th>split3_train_score</th>\n",
       "      <th>mean_train_score</th>\n",
       "      <th>std_train_score</th>\n",
       "    </tr>\n",
       "  </thead>\n",
       "  <tbody>\n",
       "    <tr>\n",
       "      <th>0</th>\n",
       "      <td>0.150424</td>\n",
       "      <td>0.006454</td>\n",
       "      <td>0.006149</td>\n",
       "      <td>0.006583</td>\n",
       "      <td>3</td>\n",
       "      <td>10</td>\n",
       "      <td>{'max_depth': 3, 'n_estimators': 10}</td>\n",
       "      <td>0.737907</td>\n",
       "      <td>0.750682</td>\n",
       "      <td>0.768476</td>\n",
       "      <td>0.767800</td>\n",
       "      <td>0.756216</td>\n",
       "      <td>0.012751</td>\n",
       "      <td>16</td>\n",
       "      <td>0.767037</td>\n",
       "      <td>0.764563</td>\n",
       "      <td>0.758841</td>\n",
       "      <td>0.763674</td>\n",
       "      <td>0.763529</td>\n",
       "      <td>0.002974</td>\n",
       "    </tr>\n",
       "    <tr>\n",
       "      <th>1</th>\n",
       "      <td>0.706992</td>\n",
       "      <td>0.013175</td>\n",
       "      <td>0.029840</td>\n",
       "      <td>0.002427</td>\n",
       "      <td>3</td>\n",
       "      <td>50</td>\n",
       "      <td>{'max_depth': 3, 'n_estimators': 50}</td>\n",
       "      <td>0.743724</td>\n",
       "      <td>0.753654</td>\n",
       "      <td>0.775148</td>\n",
       "      <td>0.768949</td>\n",
       "      <td>0.760369</td>\n",
       "      <td>0.012391</td>\n",
       "      <td>14</td>\n",
       "      <td>0.771213</td>\n",
       "      <td>0.771930</td>\n",
       "      <td>0.763567</td>\n",
       "      <td>0.765230</td>\n",
       "      <td>0.767985</td>\n",
       "      <td>0.003643</td>\n",
       "    </tr>\n",
       "    <tr>\n",
       "      <th>2</th>\n",
       "      <td>1.399145</td>\n",
       "      <td>0.026494</td>\n",
       "      <td>0.057560</td>\n",
       "      <td>0.003944</td>\n",
       "      <td>3</td>\n",
       "      <td>100</td>\n",
       "      <td>{'max_depth': 3, 'n_estimators': 100}</td>\n",
       "      <td>0.746659</td>\n",
       "      <td>0.752874</td>\n",
       "      <td>0.777776</td>\n",
       "      <td>0.772036</td>\n",
       "      <td>0.762336</td>\n",
       "      <td>0.012921</td>\n",
       "      <td>13</td>\n",
       "      <td>0.773984</td>\n",
       "      <td>0.774208</td>\n",
       "      <td>0.765233</td>\n",
       "      <td>0.767023</td>\n",
       "      <td>0.770112</td>\n",
       "      <td>0.004035</td>\n",
       "    </tr>\n",
       "    <tr>\n",
       "      <th>3</th>\n",
       "      <td>2.791319</td>\n",
       "      <td>0.076411</td>\n",
       "      <td>0.097622</td>\n",
       "      <td>0.006770</td>\n",
       "      <td>3</td>\n",
       "      <td>200</td>\n",
       "      <td>{'max_depth': 3, 'n_estimators': 200}</td>\n",
       "      <td>0.747679</td>\n",
       "      <td>0.753130</td>\n",
       "      <td>0.778395</td>\n",
       "      <td>0.772583</td>\n",
       "      <td>0.762947</td>\n",
       "      <td>0.012855</td>\n",
       "      <td>12</td>\n",
       "      <td>0.774555</td>\n",
       "      <td>0.774005</td>\n",
       "      <td>0.766237</td>\n",
       "      <td>0.768271</td>\n",
       "      <td>0.770767</td>\n",
       "      <td>0.003591</td>\n",
       "    </tr>\n",
       "    <tr>\n",
       "      <th>4</th>\n",
       "      <td>0.239830</td>\n",
       "      <td>0.002110</td>\n",
       "      <td>0.010474</td>\n",
       "      <td>0.000498</td>\n",
       "      <td>6</td>\n",
       "      <td>10</td>\n",
       "      <td>{'max_depth': 6, 'n_estimators': 10}</td>\n",
       "      <td>0.751974</td>\n",
       "      <td>0.761400</td>\n",
       "      <td>0.784346</td>\n",
       "      <td>0.778201</td>\n",
       "      <td>0.768980</td>\n",
       "      <td>0.012921</td>\n",
       "      <td>10</td>\n",
       "      <td>0.803068</td>\n",
       "      <td>0.799958</td>\n",
       "      <td>0.793101</td>\n",
       "      <td>0.796370</td>\n",
       "      <td>0.798124</td>\n",
       "      <td>0.003745</td>\n",
       "    </tr>\n",
       "    <tr>\n",
       "      <th>5</th>\n",
       "      <td>1.167961</td>\n",
       "      <td>0.006054</td>\n",
       "      <td>0.032157</td>\n",
       "      <td>0.001588</td>\n",
       "      <td>6</td>\n",
       "      <td>50</td>\n",
       "      <td>{'max_depth': 6, 'n_estimators': 50}</td>\n",
       "      <td>0.758317</td>\n",
       "      <td>0.763263</td>\n",
       "      <td>0.787013</td>\n",
       "      <td>0.777501</td>\n",
       "      <td>0.771524</td>\n",
       "      <td>0.011383</td>\n",
       "      <td>8</td>\n",
       "      <td>0.807888</td>\n",
       "      <td>0.805195</td>\n",
       "      <td>0.798590</td>\n",
       "      <td>0.801325</td>\n",
       "      <td>0.803249</td>\n",
       "      <td>0.003561</td>\n",
       "    </tr>\n",
       "    <tr>\n",
       "      <th>6</th>\n",
       "      <td>2.325518</td>\n",
       "      <td>0.026445</td>\n",
       "      <td>0.061074</td>\n",
       "      <td>0.003997</td>\n",
       "      <td>6</td>\n",
       "      <td>100</td>\n",
       "      <td>{'max_depth': 6, 'n_estimators': 100}</td>\n",
       "      <td>0.759244</td>\n",
       "      <td>0.763879</td>\n",
       "      <td>0.787605</td>\n",
       "      <td>0.779451</td>\n",
       "      <td>0.772545</td>\n",
       "      <td>0.011473</td>\n",
       "      <td>7</td>\n",
       "      <td>0.808572</td>\n",
       "      <td>0.807001</td>\n",
       "      <td>0.800749</td>\n",
       "      <td>0.803357</td>\n",
       "      <td>0.804920</td>\n",
       "      <td>0.003062</td>\n",
       "    </tr>\n",
       "    <tr>\n",
       "      <th>7</th>\n",
       "      <td>4.777290</td>\n",
       "      <td>0.189254</td>\n",
       "      <td>0.121901</td>\n",
       "      <td>0.003921</td>\n",
       "      <td>6</td>\n",
       "      <td>200</td>\n",
       "      <td>{'max_depth': 6, 'n_estimators': 200}</td>\n",
       "      <td>0.759009</td>\n",
       "      <td>0.764524</td>\n",
       "      <td>0.787796</td>\n",
       "      <td>0.780238</td>\n",
       "      <td>0.772892</td>\n",
       "      <td>0.011607</td>\n",
       "      <td>6</td>\n",
       "      <td>0.808673</td>\n",
       "      <td>0.807112</td>\n",
       "      <td>0.800888</td>\n",
       "      <td>0.804302</td>\n",
       "      <td>0.805244</td>\n",
       "      <td>0.002963</td>\n",
       "    </tr>\n",
       "    <tr>\n",
       "      <th>8</th>\n",
       "      <td>0.332300</td>\n",
       "      <td>0.007765</td>\n",
       "      <td>0.014036</td>\n",
       "      <td>0.001623</td>\n",
       "      <td>9</td>\n",
       "      <td>10</td>\n",
       "      <td>{'max_depth': 9, 'n_estimators': 10}</td>\n",
       "      <td>0.754928</td>\n",
       "      <td>0.752836</td>\n",
       "      <td>0.780102</td>\n",
       "      <td>0.770288</td>\n",
       "      <td>0.764539</td>\n",
       "      <td>0.011231</td>\n",
       "      <td>11</td>\n",
       "      <td>0.860572</td>\n",
       "      <td>0.860318</td>\n",
       "      <td>0.855605</td>\n",
       "      <td>0.850453</td>\n",
       "      <td>0.856737</td>\n",
       "      <td>0.004132</td>\n",
       "    </tr>\n",
       "    <tr>\n",
       "      <th>9</th>\n",
       "      <td>1.702264</td>\n",
       "      <td>0.078269</td>\n",
       "      <td>0.051699</td>\n",
       "      <td>0.004978</td>\n",
       "      <td>9</td>\n",
       "      <td>50</td>\n",
       "      <td>{'max_depth': 9, 'n_estimators': 50}</td>\n",
       "      <td>0.762207</td>\n",
       "      <td>0.766809</td>\n",
       "      <td>0.791103</td>\n",
       "      <td>0.781656</td>\n",
       "      <td>0.775444</td>\n",
       "      <td>0.011550</td>\n",
       "      <td>3</td>\n",
       "      <td>0.872726</td>\n",
       "      <td>0.871733</td>\n",
       "      <td>0.871411</td>\n",
       "      <td>0.868043</td>\n",
       "      <td>0.870978</td>\n",
       "      <td>0.001763</td>\n",
       "    </tr>\n",
       "    <tr>\n",
       "      <th>10</th>\n",
       "      <td>3.366325</td>\n",
       "      <td>0.153936</td>\n",
       "      <td>0.094723</td>\n",
       "      <td>0.001738</td>\n",
       "      <td>9</td>\n",
       "      <td>100</td>\n",
       "      <td>{'max_depth': 9, 'n_estimators': 100}</td>\n",
       "      <td>0.764266</td>\n",
       "      <td>0.768077</td>\n",
       "      <td>0.790553</td>\n",
       "      <td>0.783066</td>\n",
       "      <td>0.776490</td>\n",
       "      <td>0.010738</td>\n",
       "      <td>1</td>\n",
       "      <td>0.873640</td>\n",
       "      <td>0.873927</td>\n",
       "      <td>0.871364</td>\n",
       "      <td>0.869715</td>\n",
       "      <td>0.872161</td>\n",
       "      <td>0.001726</td>\n",
       "    </tr>\n",
       "    <tr>\n",
       "      <th>11</th>\n",
       "      <td>6.441709</td>\n",
       "      <td>0.107659</td>\n",
       "      <td>0.172371</td>\n",
       "      <td>0.000892</td>\n",
       "      <td>9</td>\n",
       "      <td>200</td>\n",
       "      <td>{'max_depth': 9, 'n_estimators': 200}</td>\n",
       "      <td>0.764153</td>\n",
       "      <td>0.767943</td>\n",
       "      <td>0.790565</td>\n",
       "      <td>0.782365</td>\n",
       "      <td>0.776257</td>\n",
       "      <td>0.010696</td>\n",
       "      <td>2</td>\n",
       "      <td>0.874655</td>\n",
       "      <td>0.874808</td>\n",
       "      <td>0.871948</td>\n",
       "      <td>0.871234</td>\n",
       "      <td>0.873161</td>\n",
       "      <td>0.001591</td>\n",
       "    </tr>\n",
       "    <tr>\n",
       "      <th>12</th>\n",
       "      <td>0.408156</td>\n",
       "      <td>0.014918</td>\n",
       "      <td>0.017058</td>\n",
       "      <td>0.002859</td>\n",
       "      <td>12</td>\n",
       "      <td>10</td>\n",
       "      <td>{'max_depth': 12, 'n_estimators': 10}</td>\n",
       "      <td>0.748600</td>\n",
       "      <td>0.751908</td>\n",
       "      <td>0.763270</td>\n",
       "      <td>0.762729</td>\n",
       "      <td>0.756627</td>\n",
       "      <td>0.006482</td>\n",
       "      <td>15</td>\n",
       "      <td>0.932160</td>\n",
       "      <td>0.931744</td>\n",
       "      <td>0.925832</td>\n",
       "      <td>0.919683</td>\n",
       "      <td>0.927355</td>\n",
       "      <td>0.005087</td>\n",
       "    </tr>\n",
       "    <tr>\n",
       "      <th>13</th>\n",
       "      <td>2.099498</td>\n",
       "      <td>0.059957</td>\n",
       "      <td>0.063913</td>\n",
       "      <td>0.002260</td>\n",
       "      <td>12</td>\n",
       "      <td>50</td>\n",
       "      <td>{'max_depth': 12, 'n_estimators': 50}</td>\n",
       "      <td>0.764548</td>\n",
       "      <td>0.763112</td>\n",
       "      <td>0.782234</td>\n",
       "      <td>0.775836</td>\n",
       "      <td>0.771433</td>\n",
       "      <td>0.007948</td>\n",
       "      <td>9</td>\n",
       "      <td>0.944001</td>\n",
       "      <td>0.948874</td>\n",
       "      <td>0.943761</td>\n",
       "      <td>0.941673</td>\n",
       "      <td>0.944577</td>\n",
       "      <td>0.002641</td>\n",
       "    </tr>\n",
       "    <tr>\n",
       "      <th>14</th>\n",
       "      <td>4.100247</td>\n",
       "      <td>0.171120</td>\n",
       "      <td>0.109816</td>\n",
       "      <td>0.001211</td>\n",
       "      <td>12</td>\n",
       "      <td>100</td>\n",
       "      <td>{'max_depth': 12, 'n_estimators': 100}</td>\n",
       "      <td>0.767302</td>\n",
       "      <td>0.765226</td>\n",
       "      <td>0.784663</td>\n",
       "      <td>0.778682</td>\n",
       "      <td>0.773968</td>\n",
       "      <td>0.008023</td>\n",
       "      <td>5</td>\n",
       "      <td>0.944145</td>\n",
       "      <td>0.949686</td>\n",
       "      <td>0.945835</td>\n",
       "      <td>0.944482</td>\n",
       "      <td>0.946037</td>\n",
       "      <td>0.002200</td>\n",
       "    </tr>\n",
       "    <tr>\n",
       "      <th>15</th>\n",
       "      <td>8.292152</td>\n",
       "      <td>0.337018</td>\n",
       "      <td>0.225642</td>\n",
       "      <td>0.020164</td>\n",
       "      <td>12</td>\n",
       "      <td>200</td>\n",
       "      <td>{'max_depth': 12, 'n_estimators': 200}</td>\n",
       "      <td>0.768331</td>\n",
       "      <td>0.766850</td>\n",
       "      <td>0.785113</td>\n",
       "      <td>0.780865</td>\n",
       "      <td>0.775290</td>\n",
       "      <td>0.007862</td>\n",
       "      <td>4</td>\n",
       "      <td>0.945698</td>\n",
       "      <td>0.950934</td>\n",
       "      <td>0.947596</td>\n",
       "      <td>0.946245</td>\n",
       "      <td>0.947618</td>\n",
       "      <td>0.002035</td>\n",
       "    </tr>\n",
       "  </tbody>\n",
       "</table>\n",
       "</div>"
      ],
      "text/plain": [
       "    mean_fit_time  std_fit_time  mean_score_time  std_score_time  \\\n",
       "0        0.150424      0.006454         0.006149        0.006583   \n",
       "1        0.706992      0.013175         0.029840        0.002427   \n",
       "2        1.399145      0.026494         0.057560        0.003944   \n",
       "3        2.791319      0.076411         0.097622        0.006770   \n",
       "4        0.239830      0.002110         0.010474        0.000498   \n",
       "5        1.167961      0.006054         0.032157        0.001588   \n",
       "6        2.325518      0.026445         0.061074        0.003997   \n",
       "7        4.777290      0.189254         0.121901        0.003921   \n",
       "8        0.332300      0.007765         0.014036        0.001623   \n",
       "9        1.702264      0.078269         0.051699        0.004978   \n",
       "10       3.366325      0.153936         0.094723        0.001738   \n",
       "11       6.441709      0.107659         0.172371        0.000892   \n",
       "12       0.408156      0.014918         0.017058        0.002859   \n",
       "13       2.099498      0.059957         0.063913        0.002260   \n",
       "14       4.100247      0.171120         0.109816        0.001211   \n",
       "15       8.292152      0.337018         0.225642        0.020164   \n",
       "\n",
       "   param_max_depth param_n_estimators                                  params  \\\n",
       "0                3                 10    {'max_depth': 3, 'n_estimators': 10}   \n",
       "1                3                 50    {'max_depth': 3, 'n_estimators': 50}   \n",
       "2                3                100   {'max_depth': 3, 'n_estimators': 100}   \n",
       "3                3                200   {'max_depth': 3, 'n_estimators': 200}   \n",
       "4                6                 10    {'max_depth': 6, 'n_estimators': 10}   \n",
       "5                6                 50    {'max_depth': 6, 'n_estimators': 50}   \n",
       "6                6                100   {'max_depth': 6, 'n_estimators': 100}   \n",
       "7                6                200   {'max_depth': 6, 'n_estimators': 200}   \n",
       "8                9                 10    {'max_depth': 9, 'n_estimators': 10}   \n",
       "9                9                 50    {'max_depth': 9, 'n_estimators': 50}   \n",
       "10               9                100   {'max_depth': 9, 'n_estimators': 100}   \n",
       "11               9                200   {'max_depth': 9, 'n_estimators': 200}   \n",
       "12              12                 10   {'max_depth': 12, 'n_estimators': 10}   \n",
       "13              12                 50   {'max_depth': 12, 'n_estimators': 50}   \n",
       "14              12                100  {'max_depth': 12, 'n_estimators': 100}   \n",
       "15              12                200  {'max_depth': 12, 'n_estimators': 200}   \n",
       "\n",
       "    split0_test_score  split1_test_score  split2_test_score  \\\n",
       "0            0.737907           0.750682           0.768476   \n",
       "1            0.743724           0.753654           0.775148   \n",
       "2            0.746659           0.752874           0.777776   \n",
       "3            0.747679           0.753130           0.778395   \n",
       "4            0.751974           0.761400           0.784346   \n",
       "5            0.758317           0.763263           0.787013   \n",
       "6            0.759244           0.763879           0.787605   \n",
       "7            0.759009           0.764524           0.787796   \n",
       "8            0.754928           0.752836           0.780102   \n",
       "9            0.762207           0.766809           0.791103   \n",
       "10           0.764266           0.768077           0.790553   \n",
       "11           0.764153           0.767943           0.790565   \n",
       "12           0.748600           0.751908           0.763270   \n",
       "13           0.764548           0.763112           0.782234   \n",
       "14           0.767302           0.765226           0.784663   \n",
       "15           0.768331           0.766850           0.785113   \n",
       "\n",
       "    split3_test_score  mean_test_score  std_test_score  rank_test_score  \\\n",
       "0            0.767800         0.756216        0.012751               16   \n",
       "1            0.768949         0.760369        0.012391               14   \n",
       "2            0.772036         0.762336        0.012921               13   \n",
       "3            0.772583         0.762947        0.012855               12   \n",
       "4            0.778201         0.768980        0.012921               10   \n",
       "5            0.777501         0.771524        0.011383                8   \n",
       "6            0.779451         0.772545        0.011473                7   \n",
       "7            0.780238         0.772892        0.011607                6   \n",
       "8            0.770288         0.764539        0.011231               11   \n",
       "9            0.781656         0.775444        0.011550                3   \n",
       "10           0.783066         0.776490        0.010738                1   \n",
       "11           0.782365         0.776257        0.010696                2   \n",
       "12           0.762729         0.756627        0.006482               15   \n",
       "13           0.775836         0.771433        0.007948                9   \n",
       "14           0.778682         0.773968        0.008023                5   \n",
       "15           0.780865         0.775290        0.007862                4   \n",
       "\n",
       "    split0_train_score  split1_train_score  split2_train_score  \\\n",
       "0             0.767037            0.764563            0.758841   \n",
       "1             0.771213            0.771930            0.763567   \n",
       "2             0.773984            0.774208            0.765233   \n",
       "3             0.774555            0.774005            0.766237   \n",
       "4             0.803068            0.799958            0.793101   \n",
       "5             0.807888            0.805195            0.798590   \n",
       "6             0.808572            0.807001            0.800749   \n",
       "7             0.808673            0.807112            0.800888   \n",
       "8             0.860572            0.860318            0.855605   \n",
       "9             0.872726            0.871733            0.871411   \n",
       "10            0.873640            0.873927            0.871364   \n",
       "11            0.874655            0.874808            0.871948   \n",
       "12            0.932160            0.931744            0.925832   \n",
       "13            0.944001            0.948874            0.943761   \n",
       "14            0.944145            0.949686            0.945835   \n",
       "15            0.945698            0.950934            0.947596   \n",
       "\n",
       "    split3_train_score  mean_train_score  std_train_score  \n",
       "0             0.763674          0.763529         0.002974  \n",
       "1             0.765230          0.767985         0.003643  \n",
       "2             0.767023          0.770112         0.004035  \n",
       "3             0.768271          0.770767         0.003591  \n",
       "4             0.796370          0.798124         0.003745  \n",
       "5             0.801325          0.803249         0.003561  \n",
       "6             0.803357          0.804920         0.003062  \n",
       "7             0.804302          0.805244         0.002963  \n",
       "8             0.850453          0.856737         0.004132  \n",
       "9             0.868043          0.870978         0.001763  \n",
       "10            0.869715          0.872161         0.001726  \n",
       "11            0.871234          0.873161         0.001591  \n",
       "12            0.919683          0.927355         0.005087  \n",
       "13            0.941673          0.944577         0.002641  \n",
       "14            0.944482          0.946037         0.002200  \n",
       "15            0.946245          0.947618         0.002035  "
      ]
     },
     "execution_count": 57,
     "metadata": {},
     "output_type": "execute_result"
    }
   ],
   "source": [
    "CV_rf_results"
   ]
  },
  {
   "cell_type": "code",
   "execution_count": 58,
   "metadata": {},
   "outputs": [
    {
     "data": {
      "text/plain": [
       "{'max_depth': 9, 'n_estimators': 100}"
      ]
     },
     "execution_count": 58,
     "metadata": {},
     "output_type": "execute_result"
    }
   ],
   "source": [
    "CV_rf.best_params_   # mejores hiperparámetros"
   ]
  },
  {
   "cell_type": "code",
   "execution_count": 59,
   "metadata": {},
   "outputs": [],
   "source": [
    "mask=(CV_rf_results.param_max_depth==9) & (CV_rf_results.param_n_estimators==200)"
   ]
  },
  {
   "cell_type": "code",
   "execution_count": 60,
   "metadata": {},
   "outputs": [
    {
     "data": {
      "text/plain": [
       "11    0.776257\n",
       "Name: mean_test_score, dtype: float64"
      ]
     },
     "execution_count": 60,
     "metadata": {},
     "output_type": "execute_result"
    }
   ],
   "source": [
    "CV_rf_results[mask].mean_test_score"
   ]
  },
  {
   "cell_type": "markdown",
   "metadata": {},
   "source": [
    "### El score es de 0.776. El anterior fue de 0.762. Hay un mejoramiento"
   ]
  },
  {
   "cell_type": "markdown",
   "metadata": {},
   "source": [
    "## Features más importantes"
   ]
  },
  {
   "cell_type": "code",
   "execution_count": 63,
   "metadata": {},
   "outputs": [],
   "source": [
    "feat_imp=pd.DataFrame({'Importance':CV_rf.best_estimator_.feature_importances_},index=features_response[:-1])"
   ]
  },
  {
   "cell_type": "code",
   "execution_count": 64,
   "metadata": {},
   "outputs": [
    {
     "data": {
      "text/plain": [
       "<AxesSubplot:>"
      ]
     },
     "execution_count": 64,
     "metadata": {},
     "output_type": "execute_result"
    },
    {
     "data": {
      "image/png": "[encoded data removed]",
      "text/plain": [
       "<Figure size 1200x800 with 1 Axes>"
      ]
     },
     "metadata": {
      "needs_background": "light"
     },
     "output_type": "display_data"
    }
   ],
   "source": [
    "feat_imp.sort_values('Importance',ascending=True).plot.barh()"
   ]
  },
  {
   "cell_type": "markdown",
   "metadata": {},
   "source": [
    " Notar que el mejor modelo queda guardado como: CV_rf.best_estimator_"
   ]
  },
  {
   "cell_type": "code",
   "execution_count": 67,
   "metadata": {},
   "outputs": [],
   "source": [
    "X=features_response[:-1]\n",
    "y=features_response[-1]"
   ]
  },
  {
   "cell_type": "code",
   "execution_count": 68,
   "metadata": {},
   "outputs": [
    {
     "data": {
      "text/plain": [
       "RandomForestClassifier(max_depth=9, random_state=4)"
      ]
     },
     "execution_count": 68,
     "metadata": {},
     "output_type": "execute_result"
    }
   ],
   "source": [
    "CV_rf.best_estimator_.fit(df[X].values,df[y].values)"
   ]
  },
  {
   "cell_type": "markdown",
   "metadata": {},
   "source": [
    "Este sería el paso final: entrenar el mejor modelo con todos los datos."
   ]
  },
  {
   "cell_type": "markdown",
   "metadata": {},
   "source": [
    "### Guardar modelo:"
   ]
  },
  {
   "cell_type": "code",
   "execution_count": 74,
   "metadata": {},
   "outputs": [],
   "source": [
    "with open('CV_rf.best_estimator__w_data.pkl', 'wb') as f:\n",
    "    pickle.dump([X_train, y_train,X_test, y_test,CV_rf.best_estimator_], f)"
   ]
  },
  {
   "cell_type": "markdown",
   "metadata": {},
   "source": [
    "OBS: para reabrir modelo"
   ]
  },
  {
   "cell_type": "code",
   "execution_count": null,
   "metadata": {},
   "outputs": [],
   "source": [
    "with open('CV_rf.best_estimator__w_data.pkl', 'rb') as f:\n",
    "    X_train, y_train, X_test,\\\n",
    "    y_test, xgb_model = pickle.load(f)"
   ]
  }
 ],
 "metadata": {
  "kernelspec": {
   "display_name": "Python 3",
   "language": "python",
   "name": "python3"
  },
  "language_info": {
   "codemirror_mode": {
    "name": "ipython",
    "version": 3
   },
   "file_extension": ".py",
   "mimetype": "text/x-python",
   "name": "python",
   "nbconvert_exporter": "python",
   "pygments_lexer": "ipython3",
   "version": "3.8.5"
  }
 },
 "nbformat": 4,
 "nbformat_minor": 4
}
